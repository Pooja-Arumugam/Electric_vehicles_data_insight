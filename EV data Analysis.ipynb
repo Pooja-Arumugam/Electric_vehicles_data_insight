{
 "cells": [
  {
   "cell_type": "markdown",
   "id": "0ec71f00",
   "metadata": {},
   "source": [
    "Data Acquisition"
   ]
  },
  {
   "cell_type": "code",
   "execution_count": 43,
   "id": "0941f540",
   "metadata": {},
   "outputs": [
    {
     "data": {
      "text/html": [
       "<div>\n",
       "<style scoped>\n",
       "    .dataframe tbody tr th:only-of-type {\n",
       "        vertical-align: middle;\n",
       "    }\n",
       "\n",
       "    .dataframe tbody tr th {\n",
       "        vertical-align: top;\n",
       "    }\n",
       "\n",
       "    .dataframe thead th {\n",
       "        text-align: right;\n",
       "    }\n",
       "</style>\n",
       "<table border=\"1\" class=\"dataframe\">\n",
       "  <thead>\n",
       "    <tr style=\"text-align: right;\">\n",
       "      <th></th>\n",
       "      <th>VIN (1-10)</th>\n",
       "      <th>County</th>\n",
       "      <th>City</th>\n",
       "      <th>State</th>\n",
       "      <th>Postal Code</th>\n",
       "      <th>Model Year</th>\n",
       "      <th>Make</th>\n",
       "      <th>Model</th>\n",
       "      <th>Electric Vehicle Type</th>\n",
       "      <th>Clean Alternative Fuel Vehicle (CAFV) Eligibility</th>\n",
       "      <th>Electric Range</th>\n",
       "      <th>Base MSRP</th>\n",
       "      <th>Legislative District</th>\n",
       "      <th>DOL Vehicle ID</th>\n",
       "      <th>Vehicle Location</th>\n",
       "      <th>Electric Utility</th>\n",
       "      <th>2020 Census Tract</th>\n",
       "    </tr>\n",
       "  </thead>\n",
       "  <tbody>\n",
       "    <tr>\n",
       "      <th>0</th>\n",
       "      <td>3C3CFFGE4E</td>\n",
       "      <td>Yakima</td>\n",
       "      <td>Yakima</td>\n",
       "      <td>WA</td>\n",
       "      <td>98902.0</td>\n",
       "      <td>2014</td>\n",
       "      <td>FIAT</td>\n",
       "      <td>500</td>\n",
       "      <td>Battery Electric Vehicle (BEV)</td>\n",
       "      <td>Clean Alternative Fuel Vehicle Eligible</td>\n",
       "      <td>87</td>\n",
       "      <td>0</td>\n",
       "      <td>14.0</td>\n",
       "      <td>1593721</td>\n",
       "      <td>POINT (-120.524012 46.5973939)</td>\n",
       "      <td>PACIFICORP</td>\n",
       "      <td>5.307700e+10</td>\n",
       "    </tr>\n",
       "    <tr>\n",
       "      <th>1</th>\n",
       "      <td>5YJXCBE40H</td>\n",
       "      <td>Thurston</td>\n",
       "      <td>Olympia</td>\n",
       "      <td>WA</td>\n",
       "      <td>98513.0</td>\n",
       "      <td>2017</td>\n",
       "      <td>TESLA</td>\n",
       "      <td>MODEL X</td>\n",
       "      <td>Battery Electric Vehicle (BEV)</td>\n",
       "      <td>Clean Alternative Fuel Vehicle Eligible</td>\n",
       "      <td>200</td>\n",
       "      <td>0</td>\n",
       "      <td>2.0</td>\n",
       "      <td>257167501</td>\n",
       "      <td>POINT (-122.817545 46.98876)</td>\n",
       "      <td>PUGET SOUND ENERGY INC</td>\n",
       "      <td>5.306701e+10</td>\n",
       "    </tr>\n",
       "    <tr>\n",
       "      <th>2</th>\n",
       "      <td>3MW39FS03P</td>\n",
       "      <td>King</td>\n",
       "      <td>Renton</td>\n",
       "      <td>WA</td>\n",
       "      <td>98058.0</td>\n",
       "      <td>2023</td>\n",
       "      <td>BMW</td>\n",
       "      <td>330E</td>\n",
       "      <td>Plug-in Hybrid Electric Vehicle (PHEV)</td>\n",
       "      <td>Not eligible due to low battery range</td>\n",
       "      <td>20</td>\n",
       "      <td>0</td>\n",
       "      <td>11.0</td>\n",
       "      <td>224071816</td>\n",
       "      <td>POINT (-122.1298876 47.4451257)</td>\n",
       "      <td>PUGET SOUND ENERGY INC||CITY OF TACOMA - (WA)</td>\n",
       "      <td>5.303303e+10</td>\n",
       "    </tr>\n",
       "    <tr>\n",
       "      <th>3</th>\n",
       "      <td>7PDSGABA8P</td>\n",
       "      <td>Snohomish</td>\n",
       "      <td>Bothell</td>\n",
       "      <td>WA</td>\n",
       "      <td>98012.0</td>\n",
       "      <td>2023</td>\n",
       "      <td>RIVIAN</td>\n",
       "      <td>R1S</td>\n",
       "      <td>Battery Electric Vehicle (BEV)</td>\n",
       "      <td>Eligibility unknown as battery range has not b...</td>\n",
       "      <td>0</td>\n",
       "      <td>0</td>\n",
       "      <td>21.0</td>\n",
       "      <td>260084653</td>\n",
       "      <td>POINT (-122.1873 47.820245)</td>\n",
       "      <td>PUGET SOUND ENERGY INC</td>\n",
       "      <td>5.306105e+10</td>\n",
       "    </tr>\n",
       "    <tr>\n",
       "      <th>4</th>\n",
       "      <td>5YJ3E1EB8L</td>\n",
       "      <td>King</td>\n",
       "      <td>Kent</td>\n",
       "      <td>WA</td>\n",
       "      <td>98031.0</td>\n",
       "      <td>2020</td>\n",
       "      <td>TESLA</td>\n",
       "      <td>MODEL 3</td>\n",
       "      <td>Battery Electric Vehicle (BEV)</td>\n",
       "      <td>Clean Alternative Fuel Vehicle Eligible</td>\n",
       "      <td>322</td>\n",
       "      <td>0</td>\n",
       "      <td>33.0</td>\n",
       "      <td>253771913</td>\n",
       "      <td>POINT (-122.2012521 47.3931814)</td>\n",
       "      <td>PUGET SOUND ENERGY INC||CITY OF TACOMA - (WA)</td>\n",
       "      <td>5.303303e+10</td>\n",
       "    </tr>\n",
       "    <tr>\n",
       "      <th>...</th>\n",
       "      <td>...</td>\n",
       "      <td>...</td>\n",
       "      <td>...</td>\n",
       "      <td>...</td>\n",
       "      <td>...</td>\n",
       "      <td>...</td>\n",
       "      <td>...</td>\n",
       "      <td>...</td>\n",
       "      <td>...</td>\n",
       "      <td>...</td>\n",
       "      <td>...</td>\n",
       "      <td>...</td>\n",
       "      <td>...</td>\n",
       "      <td>...</td>\n",
       "      <td>...</td>\n",
       "      <td>...</td>\n",
       "      <td>...</td>\n",
       "    </tr>\n",
       "    <tr>\n",
       "      <th>166795</th>\n",
       "      <td>3FA6P0SU4D</td>\n",
       "      <td>Spokane</td>\n",
       "      <td>Spokane</td>\n",
       "      <td>WA</td>\n",
       "      <td>99223.0</td>\n",
       "      <td>2013</td>\n",
       "      <td>FORD</td>\n",
       "      <td>FUSION</td>\n",
       "      <td>Plug-in Hybrid Electric Vehicle (PHEV)</td>\n",
       "      <td>Not eligible due to low battery range</td>\n",
       "      <td>19</td>\n",
       "      <td>0</td>\n",
       "      <td>6.0</td>\n",
       "      <td>239527123</td>\n",
       "      <td>POINT (-117.369705 47.62637)</td>\n",
       "      <td>BONNEVILLE POWER ADMINISTRATION||AVISTA CORP||...</td>\n",
       "      <td>5.306300e+10</td>\n",
       "    </tr>\n",
       "    <tr>\n",
       "      <th>166796</th>\n",
       "      <td>5YJYGDEE5M</td>\n",
       "      <td>King</td>\n",
       "      <td>Sammamish</td>\n",
       "      <td>WA</td>\n",
       "      <td>98074.0</td>\n",
       "      <td>2021</td>\n",
       "      <td>TESLA</td>\n",
       "      <td>MODEL Y</td>\n",
       "      <td>Battery Electric Vehicle (BEV)</td>\n",
       "      <td>Eligibility unknown as battery range has not b...</td>\n",
       "      <td>0</td>\n",
       "      <td>0</td>\n",
       "      <td>45.0</td>\n",
       "      <td>148715479</td>\n",
       "      <td>POINT (-122.0313266 47.6285782)</td>\n",
       "      <td>PUGET SOUND ENERGY INC||CITY OF TACOMA - (WA)</td>\n",
       "      <td>5.303303e+10</td>\n",
       "    </tr>\n",
       "    <tr>\n",
       "      <th>166797</th>\n",
       "      <td>7SAYGDEE5N</td>\n",
       "      <td>Snohomish</td>\n",
       "      <td>Mukilteo</td>\n",
       "      <td>WA</td>\n",
       "      <td>98275.0</td>\n",
       "      <td>2022</td>\n",
       "      <td>TESLA</td>\n",
       "      <td>MODEL Y</td>\n",
       "      <td>Battery Electric Vehicle (BEV)</td>\n",
       "      <td>Eligibility unknown as battery range has not b...</td>\n",
       "      <td>0</td>\n",
       "      <td>0</td>\n",
       "      <td>21.0</td>\n",
       "      <td>220504406</td>\n",
       "      <td>POINT (-122.299965 47.94171)</td>\n",
       "      <td>PUGET SOUND ENERGY INC</td>\n",
       "      <td>5.306104e+10</td>\n",
       "    </tr>\n",
       "    <tr>\n",
       "      <th>166798</th>\n",
       "      <td>1G1RH6E43D</td>\n",
       "      <td>Lewis</td>\n",
       "      <td>Mossyrock</td>\n",
       "      <td>WA</td>\n",
       "      <td>98564.0</td>\n",
       "      <td>2013</td>\n",
       "      <td>CHEVROLET</td>\n",
       "      <td>VOLT</td>\n",
       "      <td>Plug-in Hybrid Electric Vehicle (PHEV)</td>\n",
       "      <td>Clean Alternative Fuel Vehicle Eligible</td>\n",
       "      <td>38</td>\n",
       "      <td>0</td>\n",
       "      <td>20.0</td>\n",
       "      <td>156418475</td>\n",
       "      <td>POINT (-122.487535 46.5290135)</td>\n",
       "      <td>BONNEVILLE POWER ADMINISTRATION||CITY OF TACOM...</td>\n",
       "      <td>5.304197e+10</td>\n",
       "    </tr>\n",
       "    <tr>\n",
       "      <th>166799</th>\n",
       "      <td>5YJSA1E27H</td>\n",
       "      <td>Pierce</td>\n",
       "      <td>Gig Harbor</td>\n",
       "      <td>WA</td>\n",
       "      <td>98332.0</td>\n",
       "      <td>2017</td>\n",
       "      <td>TESLA</td>\n",
       "      <td>MODEL S</td>\n",
       "      <td>Battery Electric Vehicle (BEV)</td>\n",
       "      <td>Clean Alternative Fuel Vehicle Eligible</td>\n",
       "      <td>210</td>\n",
       "      <td>0</td>\n",
       "      <td>26.0</td>\n",
       "      <td>169045789</td>\n",
       "      <td>POINT (-122.589645 47.342345)</td>\n",
       "      <td>BONNEVILLE POWER ADMINISTRATION||CITY OF TACOM...</td>\n",
       "      <td>5.305307e+10</td>\n",
       "    </tr>\n",
       "  </tbody>\n",
       "</table>\n",
       "<p>166800 rows × 17 columns</p>\n",
       "</div>"
      ],
      "text/plain": [
       "        VIN (1-10)     County        City State  Postal Code  Model Year  \\\n",
       "0       3C3CFFGE4E     Yakima      Yakima    WA      98902.0        2014   \n",
       "1       5YJXCBE40H   Thurston     Olympia    WA      98513.0        2017   \n",
       "2       3MW39FS03P       King      Renton    WA      98058.0        2023   \n",
       "3       7PDSGABA8P  Snohomish     Bothell    WA      98012.0        2023   \n",
       "4       5YJ3E1EB8L       King        Kent    WA      98031.0        2020   \n",
       "...            ...        ...         ...   ...          ...         ...   \n",
       "166795  3FA6P0SU4D    Spokane     Spokane    WA      99223.0        2013   \n",
       "166796  5YJYGDEE5M       King   Sammamish    WA      98074.0        2021   \n",
       "166797  7SAYGDEE5N  Snohomish    Mukilteo    WA      98275.0        2022   \n",
       "166798  1G1RH6E43D      Lewis   Mossyrock    WA      98564.0        2013   \n",
       "166799  5YJSA1E27H     Pierce  Gig Harbor    WA      98332.0        2017   \n",
       "\n",
       "             Make    Model                   Electric Vehicle Type  \\\n",
       "0            FIAT      500          Battery Electric Vehicle (BEV)   \n",
       "1           TESLA  MODEL X          Battery Electric Vehicle (BEV)   \n",
       "2             BMW     330E  Plug-in Hybrid Electric Vehicle (PHEV)   \n",
       "3          RIVIAN      R1S          Battery Electric Vehicle (BEV)   \n",
       "4           TESLA  MODEL 3          Battery Electric Vehicle (BEV)   \n",
       "...           ...      ...                                     ...   \n",
       "166795       FORD   FUSION  Plug-in Hybrid Electric Vehicle (PHEV)   \n",
       "166796      TESLA  MODEL Y          Battery Electric Vehicle (BEV)   \n",
       "166797      TESLA  MODEL Y          Battery Electric Vehicle (BEV)   \n",
       "166798  CHEVROLET     VOLT  Plug-in Hybrid Electric Vehicle (PHEV)   \n",
       "166799      TESLA  MODEL S          Battery Electric Vehicle (BEV)   \n",
       "\n",
       "        Clean Alternative Fuel Vehicle (CAFV) Eligibility  Electric Range  \\\n",
       "0                 Clean Alternative Fuel Vehicle Eligible              87   \n",
       "1                 Clean Alternative Fuel Vehicle Eligible             200   \n",
       "2                   Not eligible due to low battery range              20   \n",
       "3       Eligibility unknown as battery range has not b...               0   \n",
       "4                 Clean Alternative Fuel Vehicle Eligible             322   \n",
       "...                                                   ...             ...   \n",
       "166795              Not eligible due to low battery range              19   \n",
       "166796  Eligibility unknown as battery range has not b...               0   \n",
       "166797  Eligibility unknown as battery range has not b...               0   \n",
       "166798            Clean Alternative Fuel Vehicle Eligible              38   \n",
       "166799            Clean Alternative Fuel Vehicle Eligible             210   \n",
       "\n",
       "        Base MSRP  Legislative District  DOL Vehicle ID  \\\n",
       "0               0                  14.0         1593721   \n",
       "1               0                   2.0       257167501   \n",
       "2               0                  11.0       224071816   \n",
       "3               0                  21.0       260084653   \n",
       "4               0                  33.0       253771913   \n",
       "...           ...                   ...             ...   \n",
       "166795          0                   6.0       239527123   \n",
       "166796          0                  45.0       148715479   \n",
       "166797          0                  21.0       220504406   \n",
       "166798          0                  20.0       156418475   \n",
       "166799          0                  26.0       169045789   \n",
       "\n",
       "                       Vehicle Location  \\\n",
       "0        POINT (-120.524012 46.5973939)   \n",
       "1          POINT (-122.817545 46.98876)   \n",
       "2       POINT (-122.1298876 47.4451257)   \n",
       "3           POINT (-122.1873 47.820245)   \n",
       "4       POINT (-122.2012521 47.3931814)   \n",
       "...                                 ...   \n",
       "166795     POINT (-117.369705 47.62637)   \n",
       "166796  POINT (-122.0313266 47.6285782)   \n",
       "166797     POINT (-122.299965 47.94171)   \n",
       "166798   POINT (-122.487535 46.5290135)   \n",
       "166799    POINT (-122.589645 47.342345)   \n",
       "\n",
       "                                         Electric Utility  2020 Census Tract  \n",
       "0                                              PACIFICORP       5.307700e+10  \n",
       "1                                  PUGET SOUND ENERGY INC       5.306701e+10  \n",
       "2           PUGET SOUND ENERGY INC||CITY OF TACOMA - (WA)       5.303303e+10  \n",
       "3                                  PUGET SOUND ENERGY INC       5.306105e+10  \n",
       "4           PUGET SOUND ENERGY INC||CITY OF TACOMA - (WA)       5.303303e+10  \n",
       "...                                                   ...                ...  \n",
       "166795  BONNEVILLE POWER ADMINISTRATION||AVISTA CORP||...       5.306300e+10  \n",
       "166796      PUGET SOUND ENERGY INC||CITY OF TACOMA - (WA)       5.303303e+10  \n",
       "166797                             PUGET SOUND ENERGY INC       5.306104e+10  \n",
       "166798  BONNEVILLE POWER ADMINISTRATION||CITY OF TACOM...       5.304197e+10  \n",
       "166799  BONNEVILLE POWER ADMINISTRATION||CITY OF TACOM...       5.305307e+10  \n",
       "\n",
       "[166800 rows x 17 columns]"
      ]
     },
     "execution_count": 43,
     "metadata": {},
     "output_type": "execute_result"
    }
   ],
   "source": [
    "import pandas as pd\n",
    "import matplotlib.pyplot as plt\n",
    "import numpy as np\n",
    "\n",
    "df= pd.read_csv(r'Electric_Vehicle_Population_Data.csv')\n",
    "df= pd.DataFrame(df)\n",
    "df"
   ]
  },
  {
   "cell_type": "markdown",
   "id": "d3d22dc3",
   "metadata": {},
   "source": [
    "Data Inspection"
   ]
  },
  {
   "cell_type": "code",
   "execution_count": 45,
   "id": "6ea64dfe",
   "metadata": {},
   "outputs": [
    {
     "data": {
      "text/html": [
       "<div>\n",
       "<style scoped>\n",
       "    .dataframe tbody tr th:only-of-type {\n",
       "        vertical-align: middle;\n",
       "    }\n",
       "\n",
       "    .dataframe tbody tr th {\n",
       "        vertical-align: top;\n",
       "    }\n",
       "\n",
       "    .dataframe thead th {\n",
       "        text-align: right;\n",
       "    }\n",
       "</style>\n",
       "<table border=\"1\" class=\"dataframe\">\n",
       "  <thead>\n",
       "    <tr style=\"text-align: right;\">\n",
       "      <th></th>\n",
       "      <th>count</th>\n",
       "      <th>mean</th>\n",
       "      <th>std</th>\n",
       "      <th>min</th>\n",
       "      <th>25%</th>\n",
       "      <th>50%</th>\n",
       "      <th>75%</th>\n",
       "      <th>max</th>\n",
       "    </tr>\n",
       "  </thead>\n",
       "  <tbody>\n",
       "    <tr>\n",
       "      <th>Postal Code</th>\n",
       "      <td>166795.0</td>\n",
       "      <td>9.817371e+04</td>\n",
       "      <td>2.442584e+03</td>\n",
       "      <td>1.730000e+03</td>\n",
       "      <td>9.805200e+04</td>\n",
       "      <td>9.812200e+04</td>\n",
       "      <td>9.837100e+04</td>\n",
       "      <td>9.957700e+04</td>\n",
       "    </tr>\n",
       "    <tr>\n",
       "      <th>Model Year</th>\n",
       "      <td>166800.0</td>\n",
       "      <td>2.020342e+03</td>\n",
       "      <td>3.001465e+00</td>\n",
       "      <td>1.997000e+03</td>\n",
       "      <td>2.018000e+03</td>\n",
       "      <td>2.021000e+03</td>\n",
       "      <td>2.023000e+03</td>\n",
       "      <td>2.024000e+03</td>\n",
       "    </tr>\n",
       "    <tr>\n",
       "      <th>Electric Range</th>\n",
       "      <td>166800.0</td>\n",
       "      <td>6.150899e+01</td>\n",
       "      <td>9.327175e+01</td>\n",
       "      <td>0.000000e+00</td>\n",
       "      <td>0.000000e+00</td>\n",
       "      <td>0.000000e+00</td>\n",
       "      <td>8.400000e+01</td>\n",
       "      <td>3.370000e+02</td>\n",
       "    </tr>\n",
       "    <tr>\n",
       "      <th>Base MSRP</th>\n",
       "      <td>166800.0</td>\n",
       "      <td>1.152723e+03</td>\n",
       "      <td>8.661081e+03</td>\n",
       "      <td>0.000000e+00</td>\n",
       "      <td>0.000000e+00</td>\n",
       "      <td>0.000000e+00</td>\n",
       "      <td>0.000000e+00</td>\n",
       "      <td>8.450000e+05</td>\n",
       "    </tr>\n",
       "    <tr>\n",
       "      <th>Legislative District</th>\n",
       "      <td>166440.0</td>\n",
       "      <td>2.917894e+01</td>\n",
       "      <td>1.485353e+01</td>\n",
       "      <td>1.000000e+00</td>\n",
       "      <td>1.800000e+01</td>\n",
       "      <td>3.300000e+01</td>\n",
       "      <td>4.200000e+01</td>\n",
       "      <td>4.900000e+01</td>\n",
       "    </tr>\n",
       "    <tr>\n",
       "      <th>DOL Vehicle ID</th>\n",
       "      <td>166800.0</td>\n",
       "      <td>2.172420e+08</td>\n",
       "      <td>7.727458e+07</td>\n",
       "      <td>4.385000e+03</td>\n",
       "      <td>1.790741e+08</td>\n",
       "      <td>2.244045e+08</td>\n",
       "      <td>2.513421e+08</td>\n",
       "      <td>4.792548e+08</td>\n",
       "    </tr>\n",
       "    <tr>\n",
       "      <th>2020 Census Tract</th>\n",
       "      <td>166795.0</td>\n",
       "      <td>5.297709e+10</td>\n",
       "      <td>1.569754e+09</td>\n",
       "      <td>1.001020e+09</td>\n",
       "      <td>5.303301e+10</td>\n",
       "      <td>5.303303e+10</td>\n",
       "      <td>5.305307e+10</td>\n",
       "      <td>5.603300e+10</td>\n",
       "    </tr>\n",
       "  </tbody>\n",
       "</table>\n",
       "</div>"
      ],
      "text/plain": [
       "                         count          mean           std           min  \\\n",
       "Postal Code           166795.0  9.817371e+04  2.442584e+03  1.730000e+03   \n",
       "Model Year            166800.0  2.020342e+03  3.001465e+00  1.997000e+03   \n",
       "Electric Range        166800.0  6.150899e+01  9.327175e+01  0.000000e+00   \n",
       "Base MSRP             166800.0  1.152723e+03  8.661081e+03  0.000000e+00   \n",
       "Legislative District  166440.0  2.917894e+01  1.485353e+01  1.000000e+00   \n",
       "DOL Vehicle ID        166800.0  2.172420e+08  7.727458e+07  4.385000e+03   \n",
       "2020 Census Tract     166795.0  5.297709e+10  1.569754e+09  1.001020e+09   \n",
       "\n",
       "                               25%           50%           75%           max  \n",
       "Postal Code           9.805200e+04  9.812200e+04  9.837100e+04  9.957700e+04  \n",
       "Model Year            2.018000e+03  2.021000e+03  2.023000e+03  2.024000e+03  \n",
       "Electric Range        0.000000e+00  0.000000e+00  8.400000e+01  3.370000e+02  \n",
       "Base MSRP             0.000000e+00  0.000000e+00  0.000000e+00  8.450000e+05  \n",
       "Legislative District  1.800000e+01  3.300000e+01  4.200000e+01  4.900000e+01  \n",
       "DOL Vehicle ID        1.790741e+08  2.244045e+08  2.513421e+08  4.792548e+08  \n",
       "2020 Census Tract     5.303301e+10  5.303303e+10  5.305307e+10  5.603300e+10  "
      ]
     },
     "execution_count": 45,
     "metadata": {},
     "output_type": "execute_result"
    }
   ],
   "source": [
    "#checking Statistics of Data \n",
    "df.describe().T"
   ]
  },
  {
   "cell_type": "code",
   "execution_count": 46,
   "id": "ea51148d",
   "metadata": {},
   "outputs": [
    {
     "name": "stdout",
     "output_type": "stream",
     "text": [
      "<class 'pandas.core.frame.DataFrame'>\n",
      "RangeIndex: 166800 entries, 0 to 166799\n",
      "Data columns (total 17 columns):\n",
      " #   Column                                             Non-Null Count   Dtype  \n",
      "---  ------                                             --------------   -----  \n",
      " 0   VIN (1-10)                                         166800 non-null  object \n",
      " 1   County                                             166795 non-null  object \n",
      " 2   City                                               166795 non-null  object \n",
      " 3   State                                              166800 non-null  object \n",
      " 4   Postal Code                                        166795 non-null  float64\n",
      " 5   Model Year                                         166800 non-null  int64  \n",
      " 6   Make                                               166800 non-null  object \n",
      " 7   Model                                              166800 non-null  object \n",
      " 8   Electric Vehicle Type                              166800 non-null  object \n",
      " 9   Clean Alternative Fuel Vehicle (CAFV) Eligibility  166800 non-null  object \n",
      " 10  Electric Range                                     166800 non-null  int64  \n",
      " 11  Base MSRP                                          166800 non-null  int64  \n",
      " 12  Legislative District                               166440 non-null  float64\n",
      " 13  DOL Vehicle ID                                     166800 non-null  int64  \n",
      " 14  Vehicle Location                                   166790 non-null  object \n",
      " 15  Electric Utility                                   166795 non-null  object \n",
      " 16  2020 Census Tract                                  166795 non-null  float64\n",
      "dtypes: float64(3), int64(4), object(10)\n",
      "memory usage: 21.6+ MB\n"
     ]
    }
   ],
   "source": [
    "#To check Non-Null records and Data types of each column\n",
    "df.info()"
   ]
  },
  {
   "cell_type": "code",
   "execution_count": 49,
   "id": "af3b0e89",
   "metadata": {},
   "outputs": [
    {
     "data": {
      "text/plain": [
       "VIN (1-10)                                             0\n",
       "County                                                 5\n",
       "City                                                   5\n",
       "State                                                  0\n",
       "Postal Code                                            5\n",
       "Model Year                                             0\n",
       "Make                                                   0\n",
       "Model                                                  0\n",
       "Electric Vehicle Type                                  0\n",
       "Clean Alternative Fuel Vehicle (CAFV) Eligibility      0\n",
       "Electric Range                                         0\n",
       "Base MSRP                                              0\n",
       "Legislative District                                 360\n",
       "DOL Vehicle ID                                         0\n",
       "Vehicle Location                                      10\n",
       "Electric Utility                                       5\n",
       "2020 Census Tract                                      5\n",
       "dtype: int64"
      ]
     },
     "execution_count": 49,
     "metadata": {},
     "output_type": "execute_result"
    }
   ],
   "source": [
    "#To check empty record for cleaning data\n",
    "df.isnull().sum()"
   ]
  },
  {
   "cell_type": "code",
   "execution_count": 51,
   "id": "267dc2e8",
   "metadata": {},
   "outputs": [
    {
     "data": {
      "text/html": [
       "<div>\n",
       "<style scoped>\n",
       "    .dataframe tbody tr th:only-of-type {\n",
       "        vertical-align: middle;\n",
       "    }\n",
       "\n",
       "    .dataframe tbody tr th {\n",
       "        vertical-align: top;\n",
       "    }\n",
       "\n",
       "    .dataframe thead th {\n",
       "        text-align: right;\n",
       "    }\n",
       "</style>\n",
       "<table border=\"1\" class=\"dataframe\">\n",
       "  <thead>\n",
       "    <tr style=\"text-align: right;\">\n",
       "      <th></th>\n",
       "      <th>VIN (1-10)</th>\n",
       "      <th>County</th>\n",
       "      <th>City</th>\n",
       "      <th>State</th>\n",
       "      <th>Postal Code</th>\n",
       "      <th>Model Year</th>\n",
       "      <th>Make</th>\n",
       "      <th>Model</th>\n",
       "      <th>Electric Vehicle Type</th>\n",
       "      <th>Clean Alternative Fuel Vehicle (CAFV) Eligibility</th>\n",
       "      <th>Electric Range</th>\n",
       "      <th>Base MSRP</th>\n",
       "      <th>Legislative District</th>\n",
       "      <th>DOL Vehicle ID</th>\n",
       "      <th>Vehicle Location</th>\n",
       "      <th>Electric Utility</th>\n",
       "      <th>2020 Census Tract</th>\n",
       "    </tr>\n",
       "  </thead>\n",
       "  <tbody>\n",
       "    <tr>\n",
       "      <th>0</th>\n",
       "      <td>3C3CFFGE4E</td>\n",
       "      <td>Yakima</td>\n",
       "      <td>Yakima</td>\n",
       "      <td>WA</td>\n",
       "      <td>98902.0</td>\n",
       "      <td>2014</td>\n",
       "      <td>FIAT</td>\n",
       "      <td>500</td>\n",
       "      <td>Battery Electric Vehicle (BEV)</td>\n",
       "      <td>Clean Alternative Fuel Vehicle Eligible</td>\n",
       "      <td>87</td>\n",
       "      <td>0</td>\n",
       "      <td>14.0</td>\n",
       "      <td>1593721</td>\n",
       "      <td>POINT (-120.524012 46.5973939)</td>\n",
       "      <td>PACIFICORP</td>\n",
       "      <td>53077000700.0</td>\n",
       "    </tr>\n",
       "    <tr>\n",
       "      <th>1</th>\n",
       "      <td>5YJXCBE40H</td>\n",
       "      <td>Thurston</td>\n",
       "      <td>Olympia</td>\n",
       "      <td>WA</td>\n",
       "      <td>98513.0</td>\n",
       "      <td>2017</td>\n",
       "      <td>TESLA</td>\n",
       "      <td>MODEL X</td>\n",
       "      <td>Battery Electric Vehicle (BEV)</td>\n",
       "      <td>Clean Alternative Fuel Vehicle Eligible</td>\n",
       "      <td>200</td>\n",
       "      <td>0</td>\n",
       "      <td>2.0</td>\n",
       "      <td>257167501</td>\n",
       "      <td>POINT (-122.817545 46.98876)</td>\n",
       "      <td>PUGET SOUND ENERGY INC</td>\n",
       "      <td>53067012331.0</td>\n",
       "    </tr>\n",
       "    <tr>\n",
       "      <th>2</th>\n",
       "      <td>3MW39FS03P</td>\n",
       "      <td>King</td>\n",
       "      <td>Renton</td>\n",
       "      <td>WA</td>\n",
       "      <td>98058.0</td>\n",
       "      <td>2023</td>\n",
       "      <td>BMW</td>\n",
       "      <td>330E</td>\n",
       "      <td>Plug-in Hybrid Electric Vehicle (PHEV)</td>\n",
       "      <td>Not eligible due to low battery range</td>\n",
       "      <td>20</td>\n",
       "      <td>0</td>\n",
       "      <td>11.0</td>\n",
       "      <td>224071816</td>\n",
       "      <td>POINT (-122.1298876 47.4451257)</td>\n",
       "      <td>PUGET SOUND ENERGY INC||CITY OF TACOMA - (WA)</td>\n",
       "      <td>53033025803.0</td>\n",
       "    </tr>\n",
       "    <tr>\n",
       "      <th>3</th>\n",
       "      <td>7PDSGABA8P</td>\n",
       "      <td>Snohomish</td>\n",
       "      <td>Bothell</td>\n",
       "      <td>WA</td>\n",
       "      <td>98012.0</td>\n",
       "      <td>2023</td>\n",
       "      <td>RIVIAN</td>\n",
       "      <td>R1S</td>\n",
       "      <td>Battery Electric Vehicle (BEV)</td>\n",
       "      <td>Eligibility unknown as battery range has not b...</td>\n",
       "      <td>0</td>\n",
       "      <td>0</td>\n",
       "      <td>21.0</td>\n",
       "      <td>260084653</td>\n",
       "      <td>POINT (-122.1873 47.820245)</td>\n",
       "      <td>PUGET SOUND ENERGY INC</td>\n",
       "      <td>53061051927.0</td>\n",
       "    </tr>\n",
       "    <tr>\n",
       "      <th>4</th>\n",
       "      <td>5YJ3E1EB8L</td>\n",
       "      <td>King</td>\n",
       "      <td>Kent</td>\n",
       "      <td>WA</td>\n",
       "      <td>98031.0</td>\n",
       "      <td>2020</td>\n",
       "      <td>TESLA</td>\n",
       "      <td>MODEL 3</td>\n",
       "      <td>Battery Electric Vehicle (BEV)</td>\n",
       "      <td>Clean Alternative Fuel Vehicle Eligible</td>\n",
       "      <td>322</td>\n",
       "      <td>0</td>\n",
       "      <td>33.0</td>\n",
       "      <td>253771913</td>\n",
       "      <td>POINT (-122.2012521 47.3931814)</td>\n",
       "      <td>PUGET SOUND ENERGY INC||CITY OF TACOMA - (WA)</td>\n",
       "      <td>53033029305.0</td>\n",
       "    </tr>\n",
       "    <tr>\n",
       "      <th>...</th>\n",
       "      <td>...</td>\n",
       "      <td>...</td>\n",
       "      <td>...</td>\n",
       "      <td>...</td>\n",
       "      <td>...</td>\n",
       "      <td>...</td>\n",
       "      <td>...</td>\n",
       "      <td>...</td>\n",
       "      <td>...</td>\n",
       "      <td>...</td>\n",
       "      <td>...</td>\n",
       "      <td>...</td>\n",
       "      <td>...</td>\n",
       "      <td>...</td>\n",
       "      <td>...</td>\n",
       "      <td>...</td>\n",
       "      <td>...</td>\n",
       "    </tr>\n",
       "    <tr>\n",
       "      <th>166795</th>\n",
       "      <td>3FA6P0SU4D</td>\n",
       "      <td>Spokane</td>\n",
       "      <td>Spokane</td>\n",
       "      <td>WA</td>\n",
       "      <td>99223.0</td>\n",
       "      <td>2013</td>\n",
       "      <td>FORD</td>\n",
       "      <td>FUSION</td>\n",
       "      <td>Plug-in Hybrid Electric Vehicle (PHEV)</td>\n",
       "      <td>Not eligible due to low battery range</td>\n",
       "      <td>19</td>\n",
       "      <td>0</td>\n",
       "      <td>6.0</td>\n",
       "      <td>239527123</td>\n",
       "      <td>POINT (-117.369705 47.62637)</td>\n",
       "      <td>BONNEVILLE POWER ADMINISTRATION||AVISTA CORP||...</td>\n",
       "      <td>53063003900.0</td>\n",
       "    </tr>\n",
       "    <tr>\n",
       "      <th>166796</th>\n",
       "      <td>5YJYGDEE5M</td>\n",
       "      <td>King</td>\n",
       "      <td>Sammamish</td>\n",
       "      <td>WA</td>\n",
       "      <td>98074.0</td>\n",
       "      <td>2021</td>\n",
       "      <td>TESLA</td>\n",
       "      <td>MODEL Y</td>\n",
       "      <td>Battery Electric Vehicle (BEV)</td>\n",
       "      <td>Eligibility unknown as battery range has not b...</td>\n",
       "      <td>0</td>\n",
       "      <td>0</td>\n",
       "      <td>45.0</td>\n",
       "      <td>148715479</td>\n",
       "      <td>POINT (-122.0313266 47.6285782)</td>\n",
       "      <td>PUGET SOUND ENERGY INC||CITY OF TACOMA - (WA)</td>\n",
       "      <td>53033032318.0</td>\n",
       "    </tr>\n",
       "    <tr>\n",
       "      <th>166797</th>\n",
       "      <td>7SAYGDEE5N</td>\n",
       "      <td>Snohomish</td>\n",
       "      <td>Mukilteo</td>\n",
       "      <td>WA</td>\n",
       "      <td>98275.0</td>\n",
       "      <td>2022</td>\n",
       "      <td>TESLA</td>\n",
       "      <td>MODEL Y</td>\n",
       "      <td>Battery Electric Vehicle (BEV)</td>\n",
       "      <td>Eligibility unknown as battery range has not b...</td>\n",
       "      <td>0</td>\n",
       "      <td>0</td>\n",
       "      <td>21.0</td>\n",
       "      <td>220504406</td>\n",
       "      <td>POINT (-122.299965 47.94171)</td>\n",
       "      <td>PUGET SOUND ENERGY INC</td>\n",
       "      <td>53061042005.0</td>\n",
       "    </tr>\n",
       "    <tr>\n",
       "      <th>166798</th>\n",
       "      <td>1G1RH6E43D</td>\n",
       "      <td>Lewis</td>\n",
       "      <td>Mossyrock</td>\n",
       "      <td>WA</td>\n",
       "      <td>98564.0</td>\n",
       "      <td>2013</td>\n",
       "      <td>CHEVROLET</td>\n",
       "      <td>VOLT</td>\n",
       "      <td>Plug-in Hybrid Electric Vehicle (PHEV)</td>\n",
       "      <td>Clean Alternative Fuel Vehicle Eligible</td>\n",
       "      <td>38</td>\n",
       "      <td>0</td>\n",
       "      <td>20.0</td>\n",
       "      <td>156418475</td>\n",
       "      <td>POINT (-122.487535 46.5290135)</td>\n",
       "      <td>BONNEVILLE POWER ADMINISTRATION||CITY OF TACOM...</td>\n",
       "      <td>53041971700.0</td>\n",
       "    </tr>\n",
       "    <tr>\n",
       "      <th>166799</th>\n",
       "      <td>5YJSA1E27H</td>\n",
       "      <td>Pierce</td>\n",
       "      <td>Gig Harbor</td>\n",
       "      <td>WA</td>\n",
       "      <td>98332.0</td>\n",
       "      <td>2017</td>\n",
       "      <td>TESLA</td>\n",
       "      <td>MODEL S</td>\n",
       "      <td>Battery Electric Vehicle (BEV)</td>\n",
       "      <td>Clean Alternative Fuel Vehicle Eligible</td>\n",
       "      <td>210</td>\n",
       "      <td>0</td>\n",
       "      <td>26.0</td>\n",
       "      <td>169045789</td>\n",
       "      <td>POINT (-122.589645 47.342345)</td>\n",
       "      <td>BONNEVILLE POWER ADMINISTRATION||CITY OF TACOM...</td>\n",
       "      <td>53053072508.0</td>\n",
       "    </tr>\n",
       "  </tbody>\n",
       "</table>\n",
       "<p>166800 rows × 17 columns</p>\n",
       "</div>"
      ],
      "text/plain": [
       "        VIN (1-10)     County        City State Postal Code  Model Year  \\\n",
       "0       3C3CFFGE4E     Yakima      Yakima    WA     98902.0        2014   \n",
       "1       5YJXCBE40H   Thurston     Olympia    WA     98513.0        2017   \n",
       "2       3MW39FS03P       King      Renton    WA     98058.0        2023   \n",
       "3       7PDSGABA8P  Snohomish     Bothell    WA     98012.0        2023   \n",
       "4       5YJ3E1EB8L       King        Kent    WA     98031.0        2020   \n",
       "...            ...        ...         ...   ...         ...         ...   \n",
       "166795  3FA6P0SU4D    Spokane     Spokane    WA     99223.0        2013   \n",
       "166796  5YJYGDEE5M       King   Sammamish    WA     98074.0        2021   \n",
       "166797  7SAYGDEE5N  Snohomish    Mukilteo    WA     98275.0        2022   \n",
       "166798  1G1RH6E43D      Lewis   Mossyrock    WA     98564.0        2013   \n",
       "166799  5YJSA1E27H     Pierce  Gig Harbor    WA     98332.0        2017   \n",
       "\n",
       "             Make    Model                   Electric Vehicle Type  \\\n",
       "0            FIAT      500          Battery Electric Vehicle (BEV)   \n",
       "1           TESLA  MODEL X          Battery Electric Vehicle (BEV)   \n",
       "2             BMW     330E  Plug-in Hybrid Electric Vehicle (PHEV)   \n",
       "3          RIVIAN      R1S          Battery Electric Vehicle (BEV)   \n",
       "4           TESLA  MODEL 3          Battery Electric Vehicle (BEV)   \n",
       "...           ...      ...                                     ...   \n",
       "166795       FORD   FUSION  Plug-in Hybrid Electric Vehicle (PHEV)   \n",
       "166796      TESLA  MODEL Y          Battery Electric Vehicle (BEV)   \n",
       "166797      TESLA  MODEL Y          Battery Electric Vehicle (BEV)   \n",
       "166798  CHEVROLET     VOLT  Plug-in Hybrid Electric Vehicle (PHEV)   \n",
       "166799      TESLA  MODEL S          Battery Electric Vehicle (BEV)   \n",
       "\n",
       "        Clean Alternative Fuel Vehicle (CAFV) Eligibility  Electric Range  \\\n",
       "0                 Clean Alternative Fuel Vehicle Eligible              87   \n",
       "1                 Clean Alternative Fuel Vehicle Eligible             200   \n",
       "2                   Not eligible due to low battery range              20   \n",
       "3       Eligibility unknown as battery range has not b...               0   \n",
       "4                 Clean Alternative Fuel Vehicle Eligible             322   \n",
       "...                                                   ...             ...   \n",
       "166795              Not eligible due to low battery range              19   \n",
       "166796  Eligibility unknown as battery range has not b...               0   \n",
       "166797  Eligibility unknown as battery range has not b...               0   \n",
       "166798            Clean Alternative Fuel Vehicle Eligible              38   \n",
       "166799            Clean Alternative Fuel Vehicle Eligible             210   \n",
       "\n",
       "        Base MSRP Legislative District  DOL Vehicle ID  \\\n",
       "0               0                 14.0         1593721   \n",
       "1               0                  2.0       257167501   \n",
       "2               0                 11.0       224071816   \n",
       "3               0                 21.0       260084653   \n",
       "4               0                 33.0       253771913   \n",
       "...           ...                  ...             ...   \n",
       "166795          0                  6.0       239527123   \n",
       "166796          0                 45.0       148715479   \n",
       "166797          0                 21.0       220504406   \n",
       "166798          0                 20.0       156418475   \n",
       "166799          0                 26.0       169045789   \n",
       "\n",
       "                       Vehicle Location  \\\n",
       "0        POINT (-120.524012 46.5973939)   \n",
       "1          POINT (-122.817545 46.98876)   \n",
       "2       POINT (-122.1298876 47.4451257)   \n",
       "3           POINT (-122.1873 47.820245)   \n",
       "4       POINT (-122.2012521 47.3931814)   \n",
       "...                                 ...   \n",
       "166795     POINT (-117.369705 47.62637)   \n",
       "166796  POINT (-122.0313266 47.6285782)   \n",
       "166797     POINT (-122.299965 47.94171)   \n",
       "166798   POINT (-122.487535 46.5290135)   \n",
       "166799    POINT (-122.589645 47.342345)   \n",
       "\n",
       "                                         Electric Utility 2020 Census Tract  \n",
       "0                                              PACIFICORP     53077000700.0  \n",
       "1                                  PUGET SOUND ENERGY INC     53067012331.0  \n",
       "2           PUGET SOUND ENERGY INC||CITY OF TACOMA - (WA)     53033025803.0  \n",
       "3                                  PUGET SOUND ENERGY INC     53061051927.0  \n",
       "4           PUGET SOUND ENERGY INC||CITY OF TACOMA - (WA)     53033029305.0  \n",
       "...                                                   ...               ...  \n",
       "166795  BONNEVILLE POWER ADMINISTRATION||AVISTA CORP||...     53063003900.0  \n",
       "166796      PUGET SOUND ENERGY INC||CITY OF TACOMA - (WA)     53033032318.0  \n",
       "166797                             PUGET SOUND ENERGY INC     53061042005.0  \n",
       "166798  BONNEVILLE POWER ADMINISTRATION||CITY OF TACOM...     53041971700.0  \n",
       "166799  BONNEVILLE POWER ADMINISTRATION||CITY OF TACOM...     53053072508.0  \n",
       "\n",
       "[166800 rows x 17 columns]"
      ]
     },
     "execution_count": 51,
     "metadata": {},
     "output_type": "execute_result"
    }
   ],
   "source": [
    "#Filling null records\n",
    "dfd = df.fillna('unknown')\n",
    "dfd"
   ]
  },
  {
   "cell_type": "code",
   "execution_count": 54,
   "id": "1fcaaa15",
   "metadata": {},
   "outputs": [
    {
     "data": {
      "text/html": [
       "<div>\n",
       "<style scoped>\n",
       "    .dataframe tbody tr th:only-of-type {\n",
       "        vertical-align: middle;\n",
       "    }\n",
       "\n",
       "    .dataframe tbody tr th {\n",
       "        vertical-align: top;\n",
       "    }\n",
       "\n",
       "    .dataframe thead th {\n",
       "        text-align: right;\n",
       "    }\n",
       "</style>\n",
       "<table border=\"1\" class=\"dataframe\">\n",
       "  <thead>\n",
       "    <tr style=\"text-align: right;\">\n",
       "      <th></th>\n",
       "      <th>VIN (1-10)</th>\n",
       "      <th>County</th>\n",
       "      <th>City</th>\n",
       "      <th>State</th>\n",
       "      <th>Postal Code</th>\n",
       "      <th>Model Year</th>\n",
       "      <th>Make</th>\n",
       "      <th>Model</th>\n",
       "      <th>Electric Vehicle Type</th>\n",
       "      <th>Clean Alternative Fuel Vehicle (CAFV) Eligibility</th>\n",
       "      <th>Electric Range</th>\n",
       "      <th>Base MSRP</th>\n",
       "      <th>Legislative District</th>\n",
       "      <th>DOL Vehicle ID</th>\n",
       "      <th>Vehicle Location</th>\n",
       "      <th>Electric Utility</th>\n",
       "      <th>2020 Census Tract</th>\n",
       "    </tr>\n",
       "  </thead>\n",
       "  <tbody>\n",
       "    <tr>\n",
       "      <th>0</th>\n",
       "      <td>3C3CFFGE4E</td>\n",
       "      <td>Yakima</td>\n",
       "      <td>Yakima</td>\n",
       "      <td>WA</td>\n",
       "      <td>98902.0</td>\n",
       "      <td>2014</td>\n",
       "      <td>FIAT</td>\n",
       "      <td>500</td>\n",
       "      <td>Battery Electric Vehicle (BEV)</td>\n",
       "      <td>Clean Alternative Fuel Vehicle Eligible</td>\n",
       "      <td>87</td>\n",
       "      <td>0</td>\n",
       "      <td>14.0</td>\n",
       "      <td>1593721</td>\n",
       "      <td>POINT (-120.524012 46.5973939)</td>\n",
       "      <td>PACIFICORP</td>\n",
       "      <td>53077000700.0</td>\n",
       "    </tr>\n",
       "    <tr>\n",
       "      <th>1</th>\n",
       "      <td>5YJXCBE40H</td>\n",
       "      <td>Thurston</td>\n",
       "      <td>Olympia</td>\n",
       "      <td>WA</td>\n",
       "      <td>98513.0</td>\n",
       "      <td>2017</td>\n",
       "      <td>TESLA</td>\n",
       "      <td>MODEL X</td>\n",
       "      <td>Battery Electric Vehicle (BEV)</td>\n",
       "      <td>Clean Alternative Fuel Vehicle Eligible</td>\n",
       "      <td>200</td>\n",
       "      <td>0</td>\n",
       "      <td>2.0</td>\n",
       "      <td>257167501</td>\n",
       "      <td>POINT (-122.817545 46.98876)</td>\n",
       "      <td>PUGET SOUND ENERGY INC</td>\n",
       "      <td>53067012331.0</td>\n",
       "    </tr>\n",
       "    <tr>\n",
       "      <th>2</th>\n",
       "      <td>3MW39FS03P</td>\n",
       "      <td>King</td>\n",
       "      <td>Renton</td>\n",
       "      <td>WA</td>\n",
       "      <td>98058.0</td>\n",
       "      <td>2023</td>\n",
       "      <td>BMW</td>\n",
       "      <td>330E</td>\n",
       "      <td>Plug-in Hybrid Electric Vehicle (PHEV)</td>\n",
       "      <td>Not eligible due to low battery range</td>\n",
       "      <td>20</td>\n",
       "      <td>0</td>\n",
       "      <td>11.0</td>\n",
       "      <td>224071816</td>\n",
       "      <td>POINT (-122.1298876 47.4451257)</td>\n",
       "      <td>PUGET SOUND ENERGY INC||CITY OF TACOMA - (WA)</td>\n",
       "      <td>53033025803.0</td>\n",
       "    </tr>\n",
       "    <tr>\n",
       "      <th>3</th>\n",
       "      <td>7PDSGABA8P</td>\n",
       "      <td>Snohomish</td>\n",
       "      <td>Bothell</td>\n",
       "      <td>WA</td>\n",
       "      <td>98012.0</td>\n",
       "      <td>2023</td>\n",
       "      <td>RIVIAN</td>\n",
       "      <td>R1S</td>\n",
       "      <td>Battery Electric Vehicle (BEV)</td>\n",
       "      <td>Eligibility unknown as battery range has not b...</td>\n",
       "      <td>0</td>\n",
       "      <td>0</td>\n",
       "      <td>21.0</td>\n",
       "      <td>260084653</td>\n",
       "      <td>POINT (-122.1873 47.820245)</td>\n",
       "      <td>PUGET SOUND ENERGY INC</td>\n",
       "      <td>53061051927.0</td>\n",
       "    </tr>\n",
       "    <tr>\n",
       "      <th>4</th>\n",
       "      <td>5YJ3E1EB8L</td>\n",
       "      <td>King</td>\n",
       "      <td>Kent</td>\n",
       "      <td>WA</td>\n",
       "      <td>98031.0</td>\n",
       "      <td>2020</td>\n",
       "      <td>TESLA</td>\n",
       "      <td>MODEL 3</td>\n",
       "      <td>Battery Electric Vehicle (BEV)</td>\n",
       "      <td>Clean Alternative Fuel Vehicle Eligible</td>\n",
       "      <td>322</td>\n",
       "      <td>0</td>\n",
       "      <td>33.0</td>\n",
       "      <td>253771913</td>\n",
       "      <td>POINT (-122.2012521 47.3931814)</td>\n",
       "      <td>PUGET SOUND ENERGY INC||CITY OF TACOMA - (WA)</td>\n",
       "      <td>53033029305.0</td>\n",
       "    </tr>\n",
       "    <tr>\n",
       "      <th>...</th>\n",
       "      <td>...</td>\n",
       "      <td>...</td>\n",
       "      <td>...</td>\n",
       "      <td>...</td>\n",
       "      <td>...</td>\n",
       "      <td>...</td>\n",
       "      <td>...</td>\n",
       "      <td>...</td>\n",
       "      <td>...</td>\n",
       "      <td>...</td>\n",
       "      <td>...</td>\n",
       "      <td>...</td>\n",
       "      <td>...</td>\n",
       "      <td>...</td>\n",
       "      <td>...</td>\n",
       "      <td>...</td>\n",
       "      <td>...</td>\n",
       "    </tr>\n",
       "    <tr>\n",
       "      <th>166139</th>\n",
       "      <td>WP0CE2A78N</td>\n",
       "      <td>King</td>\n",
       "      <td>Vashon</td>\n",
       "      <td>WA</td>\n",
       "      <td>98070.0</td>\n",
       "      <td>2022</td>\n",
       "      <td>PORSCHE</td>\n",
       "      <td>PANAMERA</td>\n",
       "      <td>Plug-in Hybrid Electric Vehicle (PHEV)</td>\n",
       "      <td>Not eligible due to low battery range</td>\n",
       "      <td>18</td>\n",
       "      <td>0</td>\n",
       "      <td>34.0</td>\n",
       "      <td>187372433</td>\n",
       "      <td>POINT (-122.46049 47.44873)</td>\n",
       "      <td>PUGET SOUND ENERGY INC||CITY OF TACOMA - (WA)</td>\n",
       "      <td>53033027702.0</td>\n",
       "    </tr>\n",
       "    <tr>\n",
       "      <th>166236</th>\n",
       "      <td>YV4BR0CK5K</td>\n",
       "      <td>Pierce</td>\n",
       "      <td>Puyallup</td>\n",
       "      <td>WA</td>\n",
       "      <td>98372.0</td>\n",
       "      <td>2019</td>\n",
       "      <td>VOLVO</td>\n",
       "      <td>XC90</td>\n",
       "      <td>Plug-in Hybrid Electric Vehicle (PHEV)</td>\n",
       "      <td>Not eligible due to low battery range</td>\n",
       "      <td>17</td>\n",
       "      <td>0</td>\n",
       "      <td>31.0</td>\n",
       "      <td>235108051</td>\n",
       "      <td>POINT (-122.28718 47.190465)</td>\n",
       "      <td>PUGET SOUND ENERGY INC||CITY OF TACOMA - (WA)</td>\n",
       "      <td>53053940010.0</td>\n",
       "    </tr>\n",
       "    <tr>\n",
       "      <th>166397</th>\n",
       "      <td>WP0CD2Y10N</td>\n",
       "      <td>Pierce</td>\n",
       "      <td>Gig Harbor</td>\n",
       "      <td>WA</td>\n",
       "      <td>98335.0</td>\n",
       "      <td>2022</td>\n",
       "      <td>PORSCHE</td>\n",
       "      <td>TAYCAN</td>\n",
       "      <td>Battery Electric Vehicle (BEV)</td>\n",
       "      <td>Eligibility unknown as battery range has not b...</td>\n",
       "      <td>0</td>\n",
       "      <td>0</td>\n",
       "      <td>26.0</td>\n",
       "      <td>216929261</td>\n",
       "      <td>POINT (-122.5835454 47.3234488)</td>\n",
       "      <td>BONNEVILLE POWER ADMINISTRATION||CITY OF TACOM...</td>\n",
       "      <td>53053072408.0</td>\n",
       "    </tr>\n",
       "    <tr>\n",
       "      <th>166627</th>\n",
       "      <td>YV4ER3XM7R</td>\n",
       "      <td>King</td>\n",
       "      <td>Seattle</td>\n",
       "      <td>WA</td>\n",
       "      <td>98122.0</td>\n",
       "      <td>2024</td>\n",
       "      <td>VOLVO</td>\n",
       "      <td>XC40</td>\n",
       "      <td>Battery Electric Vehicle (BEV)</td>\n",
       "      <td>Eligibility unknown as battery range has not b...</td>\n",
       "      <td>0</td>\n",
       "      <td>0</td>\n",
       "      <td>43.0</td>\n",
       "      <td>260050724</td>\n",
       "      <td>POINT (-122.30839 47.610365)</td>\n",
       "      <td>CITY OF SEATTLE - (WA)|CITY OF TACOMA - (WA)</td>\n",
       "      <td>53033008600.0</td>\n",
       "    </tr>\n",
       "    <tr>\n",
       "      <th>166766</th>\n",
       "      <td>YV4ED3GK6P</td>\n",
       "      <td>Snohomish</td>\n",
       "      <td>Snohomish</td>\n",
       "      <td>WA</td>\n",
       "      <td>98296.0</td>\n",
       "      <td>2023</td>\n",
       "      <td>VOLVO</td>\n",
       "      <td>C40</td>\n",
       "      <td>Battery Electric Vehicle (BEV)</td>\n",
       "      <td>Eligibility unknown as battery range has not b...</td>\n",
       "      <td>0</td>\n",
       "      <td>0</td>\n",
       "      <td>44.0</td>\n",
       "      <td>239002144</td>\n",
       "      <td>POINT (-122.15134 47.8851158)</td>\n",
       "      <td>PUGET SOUND ENERGY INC</td>\n",
       "      <td>53061052121.0</td>\n",
       "    </tr>\n",
       "  </tbody>\n",
       "</table>\n",
       "<p>10316 rows × 17 columns</p>\n",
       "</div>"
      ],
      "text/plain": [
       "        VIN (1-10)     County        City State Postal Code  Model Year  \\\n",
       "0       3C3CFFGE4E     Yakima      Yakima    WA     98902.0        2014   \n",
       "1       5YJXCBE40H   Thurston     Olympia    WA     98513.0        2017   \n",
       "2       3MW39FS03P       King      Renton    WA     98058.0        2023   \n",
       "3       7PDSGABA8P  Snohomish     Bothell    WA     98012.0        2023   \n",
       "4       5YJ3E1EB8L       King        Kent    WA     98031.0        2020   \n",
       "...            ...        ...         ...   ...         ...         ...   \n",
       "166139  WP0CE2A78N       King      Vashon    WA     98070.0        2022   \n",
       "166236  YV4BR0CK5K     Pierce    Puyallup    WA     98372.0        2019   \n",
       "166397  WP0CD2Y10N     Pierce  Gig Harbor    WA     98335.0        2022   \n",
       "166627  YV4ER3XM7R       King     Seattle    WA     98122.0        2024   \n",
       "166766  YV4ED3GK6P  Snohomish   Snohomish    WA     98296.0        2023   \n",
       "\n",
       "           Make     Model                   Electric Vehicle Type  \\\n",
       "0          FIAT       500          Battery Electric Vehicle (BEV)   \n",
       "1         TESLA   MODEL X          Battery Electric Vehicle (BEV)   \n",
       "2           BMW      330E  Plug-in Hybrid Electric Vehicle (PHEV)   \n",
       "3        RIVIAN       R1S          Battery Electric Vehicle (BEV)   \n",
       "4         TESLA   MODEL 3          Battery Electric Vehicle (BEV)   \n",
       "...         ...       ...                                     ...   \n",
       "166139  PORSCHE  PANAMERA  Plug-in Hybrid Electric Vehicle (PHEV)   \n",
       "166236    VOLVO      XC90  Plug-in Hybrid Electric Vehicle (PHEV)   \n",
       "166397  PORSCHE    TAYCAN          Battery Electric Vehicle (BEV)   \n",
       "166627    VOLVO      XC40          Battery Electric Vehicle (BEV)   \n",
       "166766    VOLVO       C40          Battery Electric Vehicle (BEV)   \n",
       "\n",
       "        Clean Alternative Fuel Vehicle (CAFV) Eligibility  Electric Range  \\\n",
       "0                 Clean Alternative Fuel Vehicle Eligible              87   \n",
       "1                 Clean Alternative Fuel Vehicle Eligible             200   \n",
       "2                   Not eligible due to low battery range              20   \n",
       "3       Eligibility unknown as battery range has not b...               0   \n",
       "4                 Clean Alternative Fuel Vehicle Eligible             322   \n",
       "...                                                   ...             ...   \n",
       "166139              Not eligible due to low battery range              18   \n",
       "166236              Not eligible due to low battery range              17   \n",
       "166397  Eligibility unknown as battery range has not b...               0   \n",
       "166627  Eligibility unknown as battery range has not b...               0   \n",
       "166766  Eligibility unknown as battery range has not b...               0   \n",
       "\n",
       "        Base MSRP Legislative District  DOL Vehicle ID  \\\n",
       "0               0                 14.0         1593721   \n",
       "1               0                  2.0       257167501   \n",
       "2               0                 11.0       224071816   \n",
       "3               0                 21.0       260084653   \n",
       "4               0                 33.0       253771913   \n",
       "...           ...                  ...             ...   \n",
       "166139          0                 34.0       187372433   \n",
       "166236          0                 31.0       235108051   \n",
       "166397          0                 26.0       216929261   \n",
       "166627          0                 43.0       260050724   \n",
       "166766          0                 44.0       239002144   \n",
       "\n",
       "                       Vehicle Location  \\\n",
       "0        POINT (-120.524012 46.5973939)   \n",
       "1          POINT (-122.817545 46.98876)   \n",
       "2       POINT (-122.1298876 47.4451257)   \n",
       "3           POINT (-122.1873 47.820245)   \n",
       "4       POINT (-122.2012521 47.3931814)   \n",
       "...                                 ...   \n",
       "166139      POINT (-122.46049 47.44873)   \n",
       "166236     POINT (-122.28718 47.190465)   \n",
       "166397  POINT (-122.5835454 47.3234488)   \n",
       "166627     POINT (-122.30839 47.610365)   \n",
       "166766    POINT (-122.15134 47.8851158)   \n",
       "\n",
       "                                         Electric Utility 2020 Census Tract  \n",
       "0                                              PACIFICORP     53077000700.0  \n",
       "1                                  PUGET SOUND ENERGY INC     53067012331.0  \n",
       "2           PUGET SOUND ENERGY INC||CITY OF TACOMA - (WA)     53033025803.0  \n",
       "3                                  PUGET SOUND ENERGY INC     53061051927.0  \n",
       "4           PUGET SOUND ENERGY INC||CITY OF TACOMA - (WA)     53033029305.0  \n",
       "...                                                   ...               ...  \n",
       "166139      PUGET SOUND ENERGY INC||CITY OF TACOMA - (WA)     53033027702.0  \n",
       "166236      PUGET SOUND ENERGY INC||CITY OF TACOMA - (WA)     53053940010.0  \n",
       "166397  BONNEVILLE POWER ADMINISTRATION||CITY OF TACOM...     53053072408.0  \n",
       "166627       CITY OF SEATTLE - (WA)|CITY OF TACOMA - (WA)     53033008600.0  \n",
       "166766                             PUGET SOUND ENERGY INC     53061052121.0  \n",
       "\n",
       "[10316 rows x 17 columns]"
      ]
     },
     "execution_count": 54,
     "metadata": {},
     "output_type": "execute_result"
    }
   ],
   "source": [
    "#Removing duplicates\n",
    "dfd.drop_duplicates(subset='VIN (1-10)', inplace=True)\n",
    "dfd"
   ]
  },
  {
   "cell_type": "code",
   "execution_count": 56,
   "id": "443525fc",
   "metadata": {},
   "outputs": [
    {
     "data": {
      "text/html": [
       "<div>\n",
       "<style scoped>\n",
       "    .dataframe tbody tr th:only-of-type {\n",
       "        vertical-align: middle;\n",
       "    }\n",
       "\n",
       "    .dataframe tbody tr th {\n",
       "        vertical-align: top;\n",
       "    }\n",
       "\n",
       "    .dataframe thead th {\n",
       "        text-align: right;\n",
       "    }\n",
       "</style>\n",
       "<table border=\"1\" class=\"dataframe\">\n",
       "  <thead>\n",
       "    <tr style=\"text-align: right;\">\n",
       "      <th></th>\n",
       "      <th>VIN (1-10)</th>\n",
       "      <th>County</th>\n",
       "      <th>City</th>\n",
       "      <th>State</th>\n",
       "      <th>Postal Code</th>\n",
       "      <th>Model Year</th>\n",
       "      <th>Make</th>\n",
       "      <th>Model</th>\n",
       "      <th>Electric Vehicle Type</th>\n",
       "      <th>Clean Alternative Fuel Vehicle (CAFV) Eligibility</th>\n",
       "      <th>Electric Range</th>\n",
       "      <th>Base MSRP</th>\n",
       "      <th>Legislative District</th>\n",
       "      <th>DOL Vehicle ID</th>\n",
       "      <th>Vehicle Location</th>\n",
       "      <th>Electric Utility</th>\n",
       "      <th>2020 Census Tract</th>\n",
       "    </tr>\n",
       "  </thead>\n",
       "  <tbody>\n",
       "    <tr>\n",
       "      <th>0</th>\n",
       "      <td>3C3CFFGE4E</td>\n",
       "      <td>Yakima</td>\n",
       "      <td>Yakima</td>\n",
       "      <td>WA</td>\n",
       "      <td>98902</td>\n",
       "      <td>2014</td>\n",
       "      <td>FIAT</td>\n",
       "      <td>500</td>\n",
       "      <td>Battery Electric Vehicle (BEV)</td>\n",
       "      <td>Clean Alternative Fuel Vehicle Eligible</td>\n",
       "      <td>87</td>\n",
       "      <td>0</td>\n",
       "      <td>14</td>\n",
       "      <td>1593721</td>\n",
       "      <td>POINT (-120.524012 46.5973939)</td>\n",
       "      <td>PACIFICORP</td>\n",
       "      <td>-2147483648</td>\n",
       "    </tr>\n",
       "    <tr>\n",
       "      <th>1</th>\n",
       "      <td>5YJXCBE40H</td>\n",
       "      <td>Thurston</td>\n",
       "      <td>Olympia</td>\n",
       "      <td>WA</td>\n",
       "      <td>98513</td>\n",
       "      <td>2017</td>\n",
       "      <td>TESLA</td>\n",
       "      <td>MODEL X</td>\n",
       "      <td>Battery Electric Vehicle (BEV)</td>\n",
       "      <td>Clean Alternative Fuel Vehicle Eligible</td>\n",
       "      <td>200</td>\n",
       "      <td>0</td>\n",
       "      <td>2</td>\n",
       "      <td>257167501</td>\n",
       "      <td>POINT (-122.817545 46.98876)</td>\n",
       "      <td>PUGET SOUND ENERGY INC</td>\n",
       "      <td>-2147483648</td>\n",
       "    </tr>\n",
       "    <tr>\n",
       "      <th>2</th>\n",
       "      <td>3MW39FS03P</td>\n",
       "      <td>King</td>\n",
       "      <td>Renton</td>\n",
       "      <td>WA</td>\n",
       "      <td>98058</td>\n",
       "      <td>2023</td>\n",
       "      <td>BMW</td>\n",
       "      <td>330E</td>\n",
       "      <td>Plug-in Hybrid Electric Vehicle (PHEV)</td>\n",
       "      <td>Not eligible due to low battery range</td>\n",
       "      <td>20</td>\n",
       "      <td>0</td>\n",
       "      <td>11</td>\n",
       "      <td>224071816</td>\n",
       "      <td>POINT (-122.1298876 47.4451257)</td>\n",
       "      <td>PUGET SOUND ENERGY INC||CITY OF TACOMA - (WA)</td>\n",
       "      <td>-2147483648</td>\n",
       "    </tr>\n",
       "    <tr>\n",
       "      <th>3</th>\n",
       "      <td>7PDSGABA8P</td>\n",
       "      <td>Snohomish</td>\n",
       "      <td>Bothell</td>\n",
       "      <td>WA</td>\n",
       "      <td>98012</td>\n",
       "      <td>2023</td>\n",
       "      <td>RIVIAN</td>\n",
       "      <td>R1S</td>\n",
       "      <td>Battery Electric Vehicle (BEV)</td>\n",
       "      <td>Eligibility unknown as battery range has not b...</td>\n",
       "      <td>0</td>\n",
       "      <td>0</td>\n",
       "      <td>21</td>\n",
       "      <td>260084653</td>\n",
       "      <td>POINT (-122.1873 47.820245)</td>\n",
       "      <td>PUGET SOUND ENERGY INC</td>\n",
       "      <td>-2147483648</td>\n",
       "    </tr>\n",
       "    <tr>\n",
       "      <th>4</th>\n",
       "      <td>5YJ3E1EB8L</td>\n",
       "      <td>King</td>\n",
       "      <td>Kent</td>\n",
       "      <td>WA</td>\n",
       "      <td>98031</td>\n",
       "      <td>2020</td>\n",
       "      <td>TESLA</td>\n",
       "      <td>MODEL 3</td>\n",
       "      <td>Battery Electric Vehicle (BEV)</td>\n",
       "      <td>Clean Alternative Fuel Vehicle Eligible</td>\n",
       "      <td>322</td>\n",
       "      <td>0</td>\n",
       "      <td>33</td>\n",
       "      <td>253771913</td>\n",
       "      <td>POINT (-122.2012521 47.3931814)</td>\n",
       "      <td>PUGET SOUND ENERGY INC||CITY OF TACOMA - (WA)</td>\n",
       "      <td>-2147483648</td>\n",
       "    </tr>\n",
       "    <tr>\n",
       "      <th>...</th>\n",
       "      <td>...</td>\n",
       "      <td>...</td>\n",
       "      <td>...</td>\n",
       "      <td>...</td>\n",
       "      <td>...</td>\n",
       "      <td>...</td>\n",
       "      <td>...</td>\n",
       "      <td>...</td>\n",
       "      <td>...</td>\n",
       "      <td>...</td>\n",
       "      <td>...</td>\n",
       "      <td>...</td>\n",
       "      <td>...</td>\n",
       "      <td>...</td>\n",
       "      <td>...</td>\n",
       "      <td>...</td>\n",
       "      <td>...</td>\n",
       "    </tr>\n",
       "    <tr>\n",
       "      <th>166139</th>\n",
       "      <td>WP0CE2A78N</td>\n",
       "      <td>King</td>\n",
       "      <td>Vashon</td>\n",
       "      <td>WA</td>\n",
       "      <td>98070</td>\n",
       "      <td>2022</td>\n",
       "      <td>PORSCHE</td>\n",
       "      <td>PANAMERA</td>\n",
       "      <td>Plug-in Hybrid Electric Vehicle (PHEV)</td>\n",
       "      <td>Not eligible due to low battery range</td>\n",
       "      <td>18</td>\n",
       "      <td>0</td>\n",
       "      <td>34</td>\n",
       "      <td>187372433</td>\n",
       "      <td>POINT (-122.46049 47.44873)</td>\n",
       "      <td>PUGET SOUND ENERGY INC||CITY OF TACOMA - (WA)</td>\n",
       "      <td>-2147483648</td>\n",
       "    </tr>\n",
       "    <tr>\n",
       "      <th>166236</th>\n",
       "      <td>YV4BR0CK5K</td>\n",
       "      <td>Pierce</td>\n",
       "      <td>Puyallup</td>\n",
       "      <td>WA</td>\n",
       "      <td>98372</td>\n",
       "      <td>2019</td>\n",
       "      <td>VOLVO</td>\n",
       "      <td>XC90</td>\n",
       "      <td>Plug-in Hybrid Electric Vehicle (PHEV)</td>\n",
       "      <td>Not eligible due to low battery range</td>\n",
       "      <td>17</td>\n",
       "      <td>0</td>\n",
       "      <td>31</td>\n",
       "      <td>235108051</td>\n",
       "      <td>POINT (-122.28718 47.190465)</td>\n",
       "      <td>PUGET SOUND ENERGY INC||CITY OF TACOMA - (WA)</td>\n",
       "      <td>-2147483648</td>\n",
       "    </tr>\n",
       "    <tr>\n",
       "      <th>166397</th>\n",
       "      <td>WP0CD2Y10N</td>\n",
       "      <td>Pierce</td>\n",
       "      <td>Gig Harbor</td>\n",
       "      <td>WA</td>\n",
       "      <td>98335</td>\n",
       "      <td>2022</td>\n",
       "      <td>PORSCHE</td>\n",
       "      <td>TAYCAN</td>\n",
       "      <td>Battery Electric Vehicle (BEV)</td>\n",
       "      <td>Eligibility unknown as battery range has not b...</td>\n",
       "      <td>0</td>\n",
       "      <td>0</td>\n",
       "      <td>26</td>\n",
       "      <td>216929261</td>\n",
       "      <td>POINT (-122.5835454 47.3234488)</td>\n",
       "      <td>BONNEVILLE POWER ADMINISTRATION||CITY OF TACOM...</td>\n",
       "      <td>-2147483648</td>\n",
       "    </tr>\n",
       "    <tr>\n",
       "      <th>166627</th>\n",
       "      <td>YV4ER3XM7R</td>\n",
       "      <td>King</td>\n",
       "      <td>Seattle</td>\n",
       "      <td>WA</td>\n",
       "      <td>98122</td>\n",
       "      <td>2024</td>\n",
       "      <td>VOLVO</td>\n",
       "      <td>XC40</td>\n",
       "      <td>Battery Electric Vehicle (BEV)</td>\n",
       "      <td>Eligibility unknown as battery range has not b...</td>\n",
       "      <td>0</td>\n",
       "      <td>0</td>\n",
       "      <td>43</td>\n",
       "      <td>260050724</td>\n",
       "      <td>POINT (-122.30839 47.610365)</td>\n",
       "      <td>CITY OF SEATTLE - (WA)|CITY OF TACOMA - (WA)</td>\n",
       "      <td>-2147483648</td>\n",
       "    </tr>\n",
       "    <tr>\n",
       "      <th>166766</th>\n",
       "      <td>YV4ED3GK6P</td>\n",
       "      <td>Snohomish</td>\n",
       "      <td>Snohomish</td>\n",
       "      <td>WA</td>\n",
       "      <td>98296</td>\n",
       "      <td>2023</td>\n",
       "      <td>VOLVO</td>\n",
       "      <td>C40</td>\n",
       "      <td>Battery Electric Vehicle (BEV)</td>\n",
       "      <td>Eligibility unknown as battery range has not b...</td>\n",
       "      <td>0</td>\n",
       "      <td>0</td>\n",
       "      <td>44</td>\n",
       "      <td>239002144</td>\n",
       "      <td>POINT (-122.15134 47.8851158)</td>\n",
       "      <td>PUGET SOUND ENERGY INC</td>\n",
       "      <td>-2147483648</td>\n",
       "    </tr>\n",
       "  </tbody>\n",
       "</table>\n",
       "<p>10307 rows × 17 columns</p>\n",
       "</div>"
      ],
      "text/plain": [
       "        VIN (1-10)     County        City State  Postal Code  Model Year  \\\n",
       "0       3C3CFFGE4E     Yakima      Yakima    WA        98902        2014   \n",
       "1       5YJXCBE40H   Thurston     Olympia    WA        98513        2017   \n",
       "2       3MW39FS03P       King      Renton    WA        98058        2023   \n",
       "3       7PDSGABA8P  Snohomish     Bothell    WA        98012        2023   \n",
       "4       5YJ3E1EB8L       King        Kent    WA        98031        2020   \n",
       "...            ...        ...         ...   ...          ...         ...   \n",
       "166139  WP0CE2A78N       King      Vashon    WA        98070        2022   \n",
       "166236  YV4BR0CK5K     Pierce    Puyallup    WA        98372        2019   \n",
       "166397  WP0CD2Y10N     Pierce  Gig Harbor    WA        98335        2022   \n",
       "166627  YV4ER3XM7R       King     Seattle    WA        98122        2024   \n",
       "166766  YV4ED3GK6P  Snohomish   Snohomish    WA        98296        2023   \n",
       "\n",
       "           Make     Model                   Electric Vehicle Type  \\\n",
       "0          FIAT       500          Battery Electric Vehicle (BEV)   \n",
       "1         TESLA   MODEL X          Battery Electric Vehicle (BEV)   \n",
       "2           BMW      330E  Plug-in Hybrid Electric Vehicle (PHEV)   \n",
       "3        RIVIAN       R1S          Battery Electric Vehicle (BEV)   \n",
       "4         TESLA   MODEL 3          Battery Electric Vehicle (BEV)   \n",
       "...         ...       ...                                     ...   \n",
       "166139  PORSCHE  PANAMERA  Plug-in Hybrid Electric Vehicle (PHEV)   \n",
       "166236    VOLVO      XC90  Plug-in Hybrid Electric Vehicle (PHEV)   \n",
       "166397  PORSCHE    TAYCAN          Battery Electric Vehicle (BEV)   \n",
       "166627    VOLVO      XC40          Battery Electric Vehicle (BEV)   \n",
       "166766    VOLVO       C40          Battery Electric Vehicle (BEV)   \n",
       "\n",
       "        Clean Alternative Fuel Vehicle (CAFV) Eligibility  Electric Range  \\\n",
       "0                 Clean Alternative Fuel Vehicle Eligible              87   \n",
       "1                 Clean Alternative Fuel Vehicle Eligible             200   \n",
       "2                   Not eligible due to low battery range              20   \n",
       "3       Eligibility unknown as battery range has not b...               0   \n",
       "4                 Clean Alternative Fuel Vehicle Eligible             322   \n",
       "...                                                   ...             ...   \n",
       "166139              Not eligible due to low battery range              18   \n",
       "166236              Not eligible due to low battery range              17   \n",
       "166397  Eligibility unknown as battery range has not b...               0   \n",
       "166627  Eligibility unknown as battery range has not b...               0   \n",
       "166766  Eligibility unknown as battery range has not b...               0   \n",
       "\n",
       "        Base MSRP  Legislative District  DOL Vehicle ID  \\\n",
       "0               0                    14         1593721   \n",
       "1               0                     2       257167501   \n",
       "2               0                    11       224071816   \n",
       "3               0                    21       260084653   \n",
       "4               0                    33       253771913   \n",
       "...           ...                   ...             ...   \n",
       "166139          0                    34       187372433   \n",
       "166236          0                    31       235108051   \n",
       "166397          0                    26       216929261   \n",
       "166627          0                    43       260050724   \n",
       "166766          0                    44       239002144   \n",
       "\n",
       "                       Vehicle Location  \\\n",
       "0        POINT (-120.524012 46.5973939)   \n",
       "1          POINT (-122.817545 46.98876)   \n",
       "2       POINT (-122.1298876 47.4451257)   \n",
       "3           POINT (-122.1873 47.820245)   \n",
       "4       POINT (-122.2012521 47.3931814)   \n",
       "...                                 ...   \n",
       "166139      POINT (-122.46049 47.44873)   \n",
       "166236     POINT (-122.28718 47.190465)   \n",
       "166397  POINT (-122.5835454 47.3234488)   \n",
       "166627     POINT (-122.30839 47.610365)   \n",
       "166766    POINT (-122.15134 47.8851158)   \n",
       "\n",
       "                                         Electric Utility  2020 Census Tract  \n",
       "0                                              PACIFICORP        -2147483648  \n",
       "1                                  PUGET SOUND ENERGY INC        -2147483648  \n",
       "2           PUGET SOUND ENERGY INC||CITY OF TACOMA - (WA)        -2147483648  \n",
       "3                                  PUGET SOUND ENERGY INC        -2147483648  \n",
       "4           PUGET SOUND ENERGY INC||CITY OF TACOMA - (WA)        -2147483648  \n",
       "...                                                   ...                ...  \n",
       "166139      PUGET SOUND ENERGY INC||CITY OF TACOMA - (WA)        -2147483648  \n",
       "166236      PUGET SOUND ENERGY INC||CITY OF TACOMA - (WA)        -2147483648  \n",
       "166397  BONNEVILLE POWER ADMINISTRATION||CITY OF TACOM...        -2147483648  \n",
       "166627       CITY OF SEATTLE - (WA)|CITY OF TACOMA - (WA)        -2147483648  \n",
       "166766                             PUGET SOUND ENERGY INC        -2147483648  \n",
       "\n",
       "[10307 rows x 17 columns]"
      ]
     },
     "execution_count": 56,
     "metadata": {},
     "output_type": "execute_result"
    }
   ],
   "source": [
    "\n",
    "# Replace 'unknown' values with NaN\n",
    "dfd.replace('unknown', np.nan, inplace=True)\n",
    "\n",
    "# Convert columns to numeric, handling errors by coercing to NaN\n",
    "dfd['Postal Code'] = pd.to_numeric(dfd['Postal Code'], errors='coerce')\n",
    "dfd['Legislative District'] = pd.to_numeric(dfd['Legislative District'], errors='coerce')\n",
    "dfd['2020 Census Tract'] = pd.to_numeric(dfd['2020 Census Tract'], errors='coerce')\n",
    "\n",
    "# Drop rows with NaN values after conversion\n",
    "dfd.dropna(subset=['Postal Code', 'Legislative District', '2020 Census Tract'], inplace=True)\n",
    "\n",
    "# Convert columns to integers\n",
    "dfd['Postal Code'] = dfd['Postal Code'].astype(int)\n",
    "dfd['Legislative District'] = dfd['Legislative District'].astype(int)\n",
    "dfd['2020 Census Tract'] = dfd['2020 Census Tract'].astype(int)\n",
    "dfd"
   ]
  },
  {
   "cell_type": "code",
   "execution_count": 58,
   "id": "cabc63fe",
   "metadata": {},
   "outputs": [
    {
     "data": {
      "image/png": "[encoded data removed]",
      "text/plain": [
       "<Figure size 1000x600 with 1 Axes>"
      ]
     },
     "metadata": {},
     "output_type": "display_data"
    },
    {
     "data": {
      "image/png": "[encoded data removed]",
      "text/plain": [
       "<Figure size 1000x600 with 1 Axes>"
      ]
     },
     "metadata": {},
     "output_type": "display_data"
    }
   ],
   "source": [
    "\n",
    "# Visualization 1: Histogram of Electric Range\n",
    "plt.figure(figsize=(10, 6))\n",
    "plt.hist(dfd['Electric Range'], bins=20, color='skyblue', edgecolor='black')\n",
    "plt.title('Histogram of Electric Range')\n",
    "plt.xlabel('Electric Range')\n",
    "plt.ylabel('Frequency')\n",
    "plt.show()\n",
    "\n",
    "# Visualization 2: Boxplot of Base MSRP\n",
    "plt.figure(figsize=(10, 6))\n",
    "plt.boxplot(dfd['Base MSRP'], vert=False)\n",
    "plt.title('Boxplot of Base MSRP')\n",
    "plt.xlabel('Base MSRP')\n",
    "plt.show()\n",
    "\n"
   ]
  },
  {
   "cell_type": "code",
   "execution_count": 59,
   "id": "b5641c1a",
   "metadata": {},
   "outputs": [
    {
     "data": {
      "image/png": "[encoded data removed]",
      "text/plain": [
       "<Figure size 1000x500 with 1 Axes>"
      ]
     },
     "metadata": {},
     "output_type": "display_data"
    }
   ],
   "source": [
    "\n",
    "# Visualization 4: Bar plot - Count of Electric Vehicle Types\n",
    "electric_vehicle_counts = dfd['Electric Vehicle Type'].value_counts()\n",
    "plt.figure(figsize=(10, 5))\n",
    "plt.bar(electric_vehicle_counts.index, electric_vehicle_counts, color=['lightyellow','lightgreen'])\n",
    "plt.title('Count of Electric Vehicle Types')\n",
    "plt.xlabel('Electric Vehicle Type')\n",
    "plt.ylabel('Count')\n",
    "plt.xticks(rotation=45, ha='right')\n",
    "plt.show()\n"
   ]
  },
  {
   "cell_type": "code",
   "execution_count": 60,
   "id": "4f4cb2ee",
   "metadata": {},
   "outputs": [
    {
     "data": {
      "image/png": "[encoded data removed]",
      "text/plain": [
       "<Figure size 800x800 with 1 Axes>"
      ]
     },
     "metadata": {},
     "output_type": "display_data"
    },
    {
     "data": {
      "image/png": "[encoded data removed]",
      "text/plain": [
       "<Figure size 1200x600 with 1 Axes>"
      ]
     },
     "metadata": {},
     "output_type": "display_data"
    }
   ],
   "source": [
    "# Visualization 5: Pie chart - Distribution of Clean Alternative Fuel Vehicle (CAFV) Eligibility\n",
    "cafv_eligibility_counts = dfd['Clean Alternative Fuel Vehicle (CAFV) Eligibility'].value_counts()\n",
    "plt.figure(figsize=(8, 8))\n",
    "plt.pie(cafv_eligibility_counts, labels=cafv_eligibility_counts.index, autopct='%1.1f%%', colors=['lightcoral', 'lightgreen','lightblue'])\n",
    "plt.title('Distribution of CAFV Eligibility')\n",
    "plt.show()\n",
    "\n",
    "# Visualization 6: Line plot - Electric Range over Model Year\n",
    "model_year_means = dfd.groupby('Model Year')['Electric Range'].mean()\n",
    "plt.figure(figsize=(12, 6))\n",
    "plt.plot(model_year_means.index, model_year_means, marker='o', color='orange', linestyle='-', linewidth=2)\n",
    "plt.title('Average Electric Range Over Model Year')\n",
    "plt.xlabel('Model Year')\n",
    "plt.ylabel('Average Electric Range')\n",
    "plt.grid(True)\n",
    "plt.show()\n"
   ]
  },
  {
   "cell_type": "code",
   "execution_count": 63,
   "id": "79613b17",
   "metadata": {},
   "outputs": [
    {
     "name": "stdout",
     "output_type": "stream",
     "text": [
      "T-test results: T-statistic = 26.155275589210728, p-value = 1.9950318261735767\n",
      "There is no significant difference in Electric Range between the two categories.\n"
     ]
    }
   ],
   "source": [
    "# Statistical Analysis: T-test without using stats\n",
    "category1_data = dfd[dfd['Electric Vehicle Type'] == 'Battery Electric Vehicle (BEV)']['Electric Range']\n",
    "category2_data = dfd[dfd['Electric Vehicle Type'] == 'Plug-in Hybrid Electric Vehicle (PHEV)']['Electric Range']\n",
    "\n",
    "# Calculate mean and standard deviation\n",
    "mean_category1, std_category1 = np.mean(category1_data), np.std(category1_data)\n",
    "mean_category2, std_category2 = np.mean(category2_data), np.std(category2_data)\n",
    "\n",
    "# Perform T-test\n",
    "n1, n2 = len(category1_data), len(category2_data)\n",
    "pooled_std = np.sqrt(((n1 - 1) * std_category1 ** 2 + (n2 - 1) * std_category2 ** 2) / (n1 + n2 - 2))\n",
    "t_stat = (mean_category1 - mean_category2) / (pooled_std * np.sqrt(1 / n1 + 1 / n2))\n",
    "degrees_of_freedom = n1 + n2 - 2\n",
    "p_value = 2 * (1 - (1 / np.sqrt(degrees_of_freedom)) * np.arctan(np.abs(t_stat / np.sqrt(degrees_of_freedom))))\n",
    "\n",
    "print(f'T-test results: T-statistic = {t_stat}, p-value = {p_value}')\n",
    "if p_value < 0.05:\n",
    "    print('The difference in Electric Range between the two categories is statistically significant.')\n",
    "else:\n",
    "    print('There is no significant difference in Electric Range between the two categories.')\n"
   ]
  },
  {
   "cell_type": "code",
   "execution_count": 64,
   "id": "dc0acbfe",
   "metadata": {},
   "outputs": [
    {
     "data": {
      "text/plain": [
       "0.7903225806451613"
      ]
     },
     "execution_count": 64,
     "metadata": {},
     "output_type": "execute_result"
    }
   ],
   "source": [
    "(4900) / (1300+4900)"
   ]
  },
  {
   "cell_type": "code",
   "execution_count": 77,
   "id": "1f661437",
   "metadata": {},
   "outputs": [
    {
     "data": {
      "application/vnd.plotly.v1+json": {
       "config": {
        "plotlyServerURL": "https://plot.ly"
       },
       "data": [
        {
         "hovertemplate": "Electric Vehicle Type=Battery Electric Vehicle (BEV)<br>Model Year=%{x}<br>Electric Range=%{y}<extra></extra>",
         "legendgroup": "Battery Electric Vehicle (BEV)",
         "line": {
          "color": "#636efa",
          "dash": "solid"
         },
         "marker": {
          "symbol": "circle"
         },
         "mode": "markers+lines",
         "name": "Battery Electric Vehicle (BEV)",
         "orientation": "v",
         "showlegend": true,
         "type": "scatter",
         "x": [
          1997,
          1998,
          1999,
          2000,
          2002,
          2003,
          2008,
          2010,
          2011,
          2012,
          2013,
          2014,
          2015,
          2016,
          2017,
          2018,
          2019,
          2020,
          2021,
          2022,
          2023,
          2024
         ],
         "xaxis": "x",
         "y": [
          39,
          58,
          74,
          58,
          95,
          95,
          220,
          245,
          113.45454545454545,
          173.6883116883117,
          162.5448275862069,
          111.53731343283582,
          146.26666666666668,
          128.57983193277312,
          152.56692913385828,
          175.97333333333333,
          212.6169014084507,
          241.1388174807198,
          29.813253012048193,
          0,
          0,
          0
         ],
         "yaxis": "y"
        },
        {
         "hovertemplate": "Electric Vehicle Type=Plug-in Hybrid Electric Vehicle (PHEV)<br>Model Year=%{x}<br>Electric Range=%{y}<extra></extra>",
         "legendgroup": "Plug-in Hybrid Electric Vehicle (PHEV)",
         "line": {
          "color": "#EF553B",
          "dash": "solid"
         },
         "marker": {
          "symbol": "circle"
         },
         "mode": "markers+lines",
         "name": "Plug-in Hybrid Electric Vehicle (PHEV)",
         "orientation": "v",
         "showlegend": true,
         "type": "scatter",
         "x": [
          2010,
          2011,
          2012,
          2013,
          2014,
          2015,
          2016,
          2017,
          2018,
          2019,
          2020,
          2021,
          2022,
          2023,
          2024
         ],
         "xaxis": "x",
         "y": [
          100,
          35,
          30.839506172839506,
          30.040650406504064,
          32.095238095238095,
          27.684615384615384,
          25.41176470588235,
          29.424836601307188,
          27.663829787234043,
          31.971052631578946,
          27.355555555555554,
          26.814583333333335,
          27.64748201438849,
          30.512738853503183,
          31.93193717277487
         ],
         "yaxis": "y"
        }
       ],
       "layout": {
        "autosize": true,
        "legend": {
         "title": {
          "text": "Electric Vehicle Type"
         },
         "tracegroupgap": 0
        },
        "template": {
         "data": {
          "bar": [
           {
            "error_x": {
             "color": "#2a3f5f"
            },
            "error_y": {
             "color": "#2a3f5f"
            },
            "marker": {
             "line": {
              "color": "#E5ECF6",
              "width": 0.5
             },
             "pattern": {
              "fillmode": "overlay",
              "size": 10,
              "solidity": 0.2
             }
            },
            "type": "bar"
           }
          ],
          "barpolar": [
           {
            "marker": {
             "line": {
              "color": "#E5ECF6",
              "width": 0.5
             },
             "pattern": {
              "fillmode": "overlay",
              "size": 10,
              "solidity": 0.2
             }
            },
            "type": "barpolar"
           }
          ],
          "carpet": [
           {
            "aaxis": {
             "endlinecolor": "#2a3f5f",
             "gridcolor": "white",
             "linecolor": "white",
             "minorgridcolor": "white",
             "startlinecolor": "#2a3f5f"
            },
            "baxis": {
             "endlinecolor": "#2a3f5f",
             "gridcolor": "white",
             "linecolor": "white",
             "minorgridcolor": "white",
             "startlinecolor": "#2a3f5f"
            },
            "type": "carpet"
           }
          ],
          "choropleth": [
           {
            "colorbar": {
             "outlinewidth": 0,
             "ticks": ""
            },
            "type": "choropleth"
           }
          ],
          "contour": [
           {
            "colorbar": {
             "outlinewidth": 0,
             "ticks": ""
            },
            "colorscale": [
             [
              0,
              "#0d0887"
             ],
             [
              0.1111111111111111,
              "#46039f"
             ],
             [
              0.2222222222222222,
              "#7201a8"
             ],
             [
              0.3333333333333333,
              "#9c179e"
             ],
             [
              0.4444444444444444,
              "#bd3786"
             ],
             [
              0.5555555555555556,
              "#d8576b"
             ],
             [
              0.6666666666666666,
              "#ed7953"
             ],
             [
              0.7777777777777778,
              "#fb9f3a"
             ],
             [
              0.8888888888888888,
              "#fdca26"
             ],
             [
              1,
              "#f0f921"
             ]
            ],
            "type": "contour"
           }
          ],
          "contourcarpet": [
           {
            "colorbar": {
             "outlinewidth": 0,
             "ticks": ""
            },
            "type": "contourcarpet"
           }
          ],
          "heatmap": [
           {
            "colorbar": {
             "outlinewidth": 0,
             "ticks": ""
            },
            "colorscale": [
             [
              0,
              "#0d0887"
             ],
             [
              0.1111111111111111,
              "#46039f"
             ],
             [
              0.2222222222222222,
              "#7201a8"
             ],
             [
              0.3333333333333333,
              "#9c179e"
             ],
             [
              0.4444444444444444,
              "#bd3786"
             ],
             [
              0.5555555555555556,
              "#d8576b"
             ],
             [
              0.6666666666666666,
              "#ed7953"
             ],
             [
              0.7777777777777778,
              "#fb9f3a"
             ],
             [
              0.8888888888888888,
              "#fdca26"
             ],
             [
              1,
              "#f0f921"
             ]
            ],
            "type": "heatmap"
           }
          ],
          "heatmapgl": [
           {
            "colorbar": {
             "outlinewidth": 0,
             "ticks": ""
            },
            "colorscale": [
             [
              0,
              "#0d0887"
             ],
             [
              0.1111111111111111,
              "#46039f"
             ],
             [
              0.2222222222222222,
              "#7201a8"
             ],
             [
              0.3333333333333333,
              "#9c179e"
             ],
             [
              0.4444444444444444,
              "#bd3786"
             ],
             [
              0.5555555555555556,
              "#d8576b"
             ],
             [
              0.6666666666666666,
              "#ed7953"
             ],
             [
              0.7777777777777778,
              "#fb9f3a"
             ],
             [
              0.8888888888888888,
              "#fdca26"
             ],
             [
              1,
              "#f0f921"
             ]
            ],
            "type": "heatmapgl"
           }
          ],
          "histogram": [
           {
            "marker": {
             "pattern": {
              "fillmode": "overlay",
              "size": 10,
              "solidity": 0.2
             }
            },
            "type": "histogram"
           }
          ],
          "histogram2d": [
           {
            "colorbar": {
             "outlinewidth": 0,
             "ticks": ""
            },
            "colorscale": [
             [
              0,
              "#0d0887"
             ],
             [
              0.1111111111111111,
              "#46039f"
             ],
             [
              0.2222222222222222,
              "#7201a8"
             ],
             [
              0.3333333333333333,
              "#9c179e"
             ],
             [
              0.4444444444444444,
              "#bd3786"
             ],
             [
              0.5555555555555556,
              "#d8576b"
             ],
             [
              0.6666666666666666,
              "#ed7953"
             ],
             [
              0.7777777777777778,
              "#fb9f3a"
             ],
             [
              0.8888888888888888,
              "#fdca26"
             ],
             [
              1,
              "#f0f921"
             ]
            ],
            "type": "histogram2d"
           }
          ],
          "histogram2dcontour": [
           {
            "colorbar": {
             "outlinewidth": 0,
             "ticks": ""
            },
            "colorscale": [
             [
              0,
              "#0d0887"
             ],
             [
              0.1111111111111111,
              "#46039f"
             ],
             [
              0.2222222222222222,
              "#7201a8"
             ],
             [
              0.3333333333333333,
              "#9c179e"
             ],
             [
              0.4444444444444444,
              "#bd3786"
             ],
             [
              0.5555555555555556,
              "#d8576b"
             ],
             [
              0.6666666666666666,
              "#ed7953"
             ],
             [
              0.7777777777777778,
              "#fb9f3a"
             ],
             [
              0.8888888888888888,
              "#fdca26"
             ],
             [
              1,
              "#f0f921"
             ]
            ],
            "type": "histogram2dcontour"
           }
          ],
          "mesh3d": [
           {
            "colorbar": {
             "outlinewidth": 0,
             "ticks": ""
            },
            "type": "mesh3d"
           }
          ],
          "parcoords": [
           {
            "line": {
             "colorbar": {
              "outlinewidth": 0,
              "ticks": ""
             }
            },
            "type": "parcoords"
           }
          ],
          "pie": [
           {
            "automargin": true,
            "type": "pie"
           }
          ],
          "scatter": [
           {
            "fillpattern": {
             "fillmode": "overlay",
             "size": 10,
             "solidity": 0.2
            },
            "type": "scatter"
           }
          ],
          "scatter3d": [
           {
            "line": {
             "colorbar": {
              "outlinewidth": 0,
              "ticks": ""
             }
            },
            "marker": {
             "colorbar": {
              "outlinewidth": 0,
              "ticks": ""
             }
            },
            "type": "scatter3d"
           }
          ],
          "scattercarpet": [
           {
            "marker": {
             "colorbar": {
              "outlinewidth": 0,
              "ticks": ""
             }
            },
            "type": "scattercarpet"
           }
          ],
          "scattergeo": [
           {
            "marker": {
             "colorbar": {
              "outlinewidth": 0,
              "ticks": ""
             }
            },
            "type": "scattergeo"
           }
          ],
          "scattergl": [
           {
            "marker": {
             "colorbar": {
              "outlinewidth": 0,
              "ticks": ""
             }
            },
            "type": "scattergl"
           }
          ],
          "scattermapbox": [
           {
            "marker": {
             "colorbar": {
              "outlinewidth": 0,
              "ticks": ""
             }
            },
            "type": "scattermapbox"
           }
          ],
          "scatterpolar": [
           {
            "marker": {
             "colorbar": {
              "outlinewidth": 0,
              "ticks": ""
             }
            },
            "type": "scatterpolar"
           }
          ],
          "scatterpolargl": [
           {
            "marker": {
             "colorbar": {
              "outlinewidth": 0,
              "ticks": ""
             }
            },
            "type": "scatterpolargl"
           }
          ],
          "scatterternary": [
           {
            "marker": {
             "colorbar": {
              "outlinewidth": 0,
              "ticks": ""
             }
            },
            "type": "scatterternary"
           }
          ],
          "surface": [
           {
            "colorbar": {
             "outlinewidth": 0,
             "ticks": ""
            },
            "colorscale": [
             [
              0,
              "#0d0887"
             ],
             [
              0.1111111111111111,
              "#46039f"
             ],
             [
              0.2222222222222222,
              "#7201a8"
             ],
             [
              0.3333333333333333,
              "#9c179e"
             ],
             [
              0.4444444444444444,
              "#bd3786"
             ],
             [
              0.5555555555555556,
              "#d8576b"
             ],
             [
              0.6666666666666666,
              "#ed7953"
             ],
             [
              0.7777777777777778,
              "#fb9f3a"
             ],
             [
              0.8888888888888888,
              "#fdca26"
             ],
             [
              1,
              "#f0f921"
             ]
            ],
            "type": "surface"
           }
          ],
          "table": [
           {
            "cells": {
             "fill": {
              "color": "#EBF0F8"
             },
             "line": {
              "color": "white"
             }
            },
            "header": {
             "fill": {
              "color": "#C8D4E3"
             },
             "line": {
              "color": "white"
             }
            },
            "type": "table"
           }
          ]
         },
         "layout": {
          "annotationdefaults": {
           "arrowcolor": "#2a3f5f",
           "arrowhead": 0,
           "arrowwidth": 1
          },
          "autotypenumbers": "strict",
          "coloraxis": {
           "colorbar": {
            "outlinewidth": 0,
            "ticks": ""
           }
          },
          "colorscale": {
           "diverging": [
            [
             0,
             "#8e0152"
            ],
            [
             0.1,
             "#c51b7d"
            ],
            [
             0.2,
             "#de77ae"
            ],
            [
             0.3,
             "#f1b6da"
            ],
            [
             0.4,
             "#fde0ef"
            ],
            [
             0.5,
             "#f7f7f7"
            ],
            [
             0.6,
             "#e6f5d0"
            ],
            [
             0.7,
             "#b8e186"
            ],
            [
             0.8,
             "#7fbc41"
            ],
            [
             0.9,
             "#4d9221"
            ],
            [
             1,
             "#276419"
            ]
           ],
           "sequential": [
            [
             0,
             "#0d0887"
            ],
            [
             0.1111111111111111,
             "#46039f"
            ],
            [
             0.2222222222222222,
             "#7201a8"
            ],
            [
             0.3333333333333333,
             "#9c179e"
            ],
            [
             0.4444444444444444,
             "#bd3786"
            ],
            [
             0.5555555555555556,
             "#d8576b"
            ],
            [
             0.6666666666666666,
             "#ed7953"
            ],
            [
             0.7777777777777778,
             "#fb9f3a"
            ],
            [
             0.8888888888888888,
             "#fdca26"
            ],
            [
             1,
             "#f0f921"
            ]
           ],
           "sequentialminus": [
            [
             0,
             "#0d0887"
            ],
            [
             0.1111111111111111,
             "#46039f"
            ],
            [
             0.2222222222222222,
             "#7201a8"
            ],
            [
             0.3333333333333333,
             "#9c179e"
            ],
            [
             0.4444444444444444,
             "#bd3786"
            ],
            [
             0.5555555555555556,
             "#d8576b"
            ],
            [
             0.6666666666666666,
             "#ed7953"
            ],
            [
             0.7777777777777778,
             "#fb9f3a"
            ],
            [
             0.8888888888888888,
             "#fdca26"
            ],
            [
             1,
             "#f0f921"
            ]
           ]
          },
          "colorway": [
           "#636efa",
           "#EF553B",
           "#00cc96",
           "#ab63fa",
           "#FFA15A",
           "#19d3f3",
           "#FF6692",
           "#B6E880",
           "#FF97FF",
           "#FECB52"
          ],
          "font": {
           "color": "#2a3f5f"
          },
          "geo": {
           "bgcolor": "white",
           "lakecolor": "white",
           "landcolor": "#E5ECF6",
           "showlakes": true,
           "showland": true,
           "subunitcolor": "white"
          },
          "hoverlabel": {
           "align": "left"
          },
          "hovermode": "closest",
          "mapbox": {
           "style": "light"
          },
          "paper_bgcolor": "white",
          "plot_bgcolor": "#E5ECF6",
          "polar": {
           "angularaxis": {
            "gridcolor": "white",
            "linecolor": "white",
            "ticks": ""
           },
           "bgcolor": "#E5ECF6",
           "radialaxis": {
            "gridcolor": "white",
            "linecolor": "white",
            "ticks": ""
           }
          },
          "scene": {
           "xaxis": {
            "backgroundcolor": "#E5ECF6",
            "gridcolor": "white",
            "gridwidth": 2,
            "linecolor": "white",
            "showbackground": true,
            "ticks": "",
            "zerolinecolor": "white"
           },
           "yaxis": {
            "backgroundcolor": "#E5ECF6",
            "gridcolor": "white",
            "gridwidth": 2,
            "linecolor": "white",
            "showbackground": true,
            "ticks": "",
            "zerolinecolor": "white"
           },
           "zaxis": {
            "backgroundcolor": "#E5ECF6",
            "gridcolor": "white",
            "gridwidth": 2,
            "linecolor": "white",
            "showbackground": true,
            "ticks": "",
            "zerolinecolor": "white"
           }
          },
          "shapedefaults": {
           "line": {
            "color": "#2a3f5f"
           }
          },
          "ternary": {
           "aaxis": {
            "gridcolor": "white",
            "linecolor": "white",
            "ticks": ""
           },
           "baxis": {
            "gridcolor": "white",
            "linecolor": "white",
            "ticks": ""
           },
           "bgcolor": "#E5ECF6",
           "caxis": {
            "gridcolor": "white",
            "linecolor": "white",
            "ticks": ""
           }
          },
          "title": {
           "x": 0.05
          },
          "xaxis": {
           "automargin": true,
           "gridcolor": "white",
           "linecolor": "white",
           "ticks": "",
           "title": {
            "standoff": 15
           },
           "zerolinecolor": "white",
           "zerolinewidth": 2
          },
          "yaxis": {
           "automargin": true,
           "gridcolor": "white",
           "linecolor": "white",
           "ticks": "",
           "title": {
            "standoff": 15
           },
           "zerolinecolor": "white",
           "zerolinewidth": 2
          }
         }
        },
        "title": {
         "text": "Average Electric Range Over Model Years by Vehicle Type"
        },
        "xaxis": {
         "anchor": "y",
         "autorange": true,
         "domain": [
          0,
          1
         ],
         "range": [
          1995.3236124176858,
          2025.6763875823142
         ],
         "title": {
          "text": "Model Year"
         },
         "type": "linear"
        },
        "yaxis": {
         "anchor": "x",
         "autorange": true,
         "domain": [
          0,
          1
         ],
         "range": [
          -20.218446601941746,
          265.21844660194176
         ],
         "title": {
          "text": "Average Electric Range"
         },
         "type": "linear"
        }
       }
      },
      "image/png": "[encoded data removed]",
      "text/html": [
       "<div>                            <div id=\"e3d522f7-2ad6-4db2-964b-060b0d426840\" class=\"plotly-graph-div\" style=\"height:525px; width:100%;\"></div>            <script type=\"text/javascript\">                require([\"plotly\"], function(Plotly) {                    window.PLOTLYENV=window.PLOTLYENV || {};                                    if (document.getElementById(\"e3d522f7-2ad6-4db2-964b-060b0d426840\")) {                    Plotly.newPlot(                        \"e3d522f7-2ad6-4db2-964b-060b0d426840\",                        [{\"hovertemplate\":\"Electric Vehicle Type=Battery Electric Vehicle (BEV)<br>Model Year=%{x}<br>Electric Range=%{y}<extra></extra>\",\"legendgroup\":\"Battery Electric Vehicle (BEV)\",\"line\":{\"color\":\"#636efa\",\"dash\":\"solid\"},\"marker\":{\"symbol\":\"circle\"},\"mode\":\"markers+lines\",\"name\":\"Battery Electric Vehicle (BEV)\",\"orientation\":\"v\",\"showlegend\":true,\"x\":[1997,1998,1999,2000,2002,2003,2008,2010,2011,2012,2013,2014,2015,2016,2017,2018,2019,2020,2021,2022,2023,2024],\"xaxis\":\"x\",\"y\":[39.0,58.0,74.0,58.0,95.0,95.0,220.0,245.0,113.45454545454545,173.6883116883117,162.5448275862069,111.53731343283582,146.26666666666668,128.57983193277312,152.56692913385828,175.97333333333333,212.6169014084507,241.1388174807198,29.813253012048193,0.0,0.0,0.0],\"yaxis\":\"y\",\"type\":\"scatter\"},{\"hovertemplate\":\"Electric Vehicle Type=Plug-in Hybrid Electric Vehicle (PHEV)<br>Model Year=%{x}<br>Electric Range=%{y}<extra></extra>\",\"legendgroup\":\"Plug-in Hybrid Electric Vehicle (PHEV)\",\"line\":{\"color\":\"#EF553B\",\"dash\":\"solid\"},\"marker\":{\"symbol\":\"circle\"},\"mode\":\"markers+lines\",\"name\":\"Plug-in Hybrid Electric Vehicle (PHEV)\",\"orientation\":\"v\",\"showlegend\":true,\"x\":[2010,2011,2012,2013,2014,2015,2016,2017,2018,2019,2020,2021,2022,2023,2024],\"xaxis\":\"x\",\"y\":[100.0,35.0,30.839506172839506,30.040650406504064,32.095238095238095,27.684615384615384,25.41176470588235,29.424836601307188,27.663829787234043,31.971052631578946,27.355555555555554,26.814583333333335,27.64748201438849,30.512738853503183,31.93193717277487],\"yaxis\":\"y\",\"type\":\"scatter\"}],                        {\"template\":{\"data\":{\"histogram2dcontour\":[{\"type\":\"histogram2dcontour\",\"colorbar\":{\"outlinewidth\":0,\"ticks\":\"\"},\"colorscale\":[[0.0,\"#0d0887\"],[0.1111111111111111,\"#46039f\"],[0.2222222222222222,\"#7201a8\"],[0.3333333333333333,\"#9c179e\"],[0.4444444444444444,\"#bd3786\"],[0.5555555555555556,\"#d8576b\"],[0.6666666666666666,\"#ed7953\"],[0.7777777777777778,\"#fb9f3a\"],[0.8888888888888888,\"#fdca26\"],[1.0,\"#f0f921\"]]}],\"choropleth\":[{\"type\":\"choropleth\",\"colorbar\":{\"outlinewidth\":0,\"ticks\":\"\"}}],\"histogram2d\":[{\"type\":\"histogram2d\",\"colorbar\":{\"outlinewidth\":0,\"ticks\":\"\"},\"colorscale\":[[0.0,\"#0d0887\"],[0.1111111111111111,\"#46039f\"],[0.2222222222222222,\"#7201a8\"],[0.3333333333333333,\"#9c179e\"],[0.4444444444444444,\"#bd3786\"],[0.5555555555555556,\"#d8576b\"],[0.6666666666666666,\"#ed7953\"],[0.7777777777777778,\"#fb9f3a\"],[0.8888888888888888,\"#fdca26\"],[1.0,\"#f0f921\"]]}],\"heatmap\":[{\"type\":\"heatmap\",\"colorbar\":{\"outlinewidth\":0,\"ticks\":\"\"},\"colorscale\":[[0.0,\"#0d0887\"],[0.1111111111111111,\"#46039f\"],[0.2222222222222222,\"#7201a8\"],[0.3333333333333333,\"#9c179e\"],[0.4444444444444444,\"#bd3786\"],[0.5555555555555556,\"#d8576b\"],[0.6666666666666666,\"#ed7953\"],[0.7777777777777778,\"#fb9f3a\"],[0.8888888888888888,\"#fdca26\"],[1.0,\"#f0f921\"]]}],\"heatmapgl\":[{\"type\":\"heatmapgl\",\"colorbar\":{\"outlinewidth\":0,\"ticks\":\"\"},\"colorscale\":[[0.0,\"#0d0887\"],[0.1111111111111111,\"#46039f\"],[0.2222222222222222,\"#7201a8\"],[0.3333333333333333,\"#9c179e\"],[0.4444444444444444,\"#bd3786\"],[0.5555555555555556,\"#d8576b\"],[0.6666666666666666,\"#ed7953\"],[0.7777777777777778,\"#fb9f3a\"],[0.8888888888888888,\"#fdca26\"],[1.0,\"#f0f921\"]]}],\"contourcarpet\":[{\"type\":\"contourcarpet\",\"colorbar\":{\"outlinewidth\":0,\"ticks\":\"\"}}],\"contour\":[{\"type\":\"contour\",\"colorbar\":{\"outlinewidth\":0,\"ticks\":\"\"},\"colorscale\":[[0.0,\"#0d0887\"],[0.1111111111111111,\"#46039f\"],[0.2222222222222222,\"#7201a8\"],[0.3333333333333333,\"#9c179e\"],[0.4444444444444444,\"#bd3786\"],[0.5555555555555556,\"#d8576b\"],[0.6666666666666666,\"#ed7953\"],[0.7777777777777778,\"#fb9f3a\"],[0.8888888888888888,\"#fdca26\"],[1.0,\"#f0f921\"]]}],\"surface\":[{\"type\":\"surface\",\"colorbar\":{\"outlinewidth\":0,\"ticks\":\"\"},\"colorscale\":[[0.0,\"#0d0887\"],[0.1111111111111111,\"#46039f\"],[0.2222222222222222,\"#7201a8\"],[0.3333333333333333,\"#9c179e\"],[0.4444444444444444,\"#bd3786\"],[0.5555555555555556,\"#d8576b\"],[0.6666666666666666,\"#ed7953\"],[0.7777777777777778,\"#fb9f3a\"],[0.8888888888888888,\"#fdca26\"],[1.0,\"#f0f921\"]]}],\"mesh3d\":[{\"type\":\"mesh3d\",\"colorbar\":{\"outlinewidth\":0,\"ticks\":\"\"}}],\"scatter\":[{\"fillpattern\":{\"fillmode\":\"overlay\",\"size\":10,\"solidity\":0.2},\"type\":\"scatter\"}],\"parcoords\":[{\"type\":\"parcoords\",\"line\":{\"colorbar\":{\"outlinewidth\":0,\"ticks\":\"\"}}}],\"scatterpolargl\":[{\"type\":\"scatterpolargl\",\"marker\":{\"colorbar\":{\"outlinewidth\":0,\"ticks\":\"\"}}}],\"bar\":[{\"error_x\":{\"color\":\"#2a3f5f\"},\"error_y\":{\"color\":\"#2a3f5f\"},\"marker\":{\"line\":{\"color\":\"#E5ECF6\",\"width\":0.5},\"pattern\":{\"fillmode\":\"overlay\",\"size\":10,\"solidity\":0.2}},\"type\":\"bar\"}],\"scattergeo\":[{\"type\":\"scattergeo\",\"marker\":{\"colorbar\":{\"outlinewidth\":0,\"ticks\":\"\"}}}],\"scatterpolar\":[{\"type\":\"scatterpolar\",\"marker\":{\"colorbar\":{\"outlinewidth\":0,\"ticks\":\"\"}}}],\"histogram\":[{\"marker\":{\"pattern\":{\"fillmode\":\"overlay\",\"size\":10,\"solidity\":0.2}},\"type\":\"histogram\"}],\"scattergl\":[{\"type\":\"scattergl\",\"marker\":{\"colorbar\":{\"outlinewidth\":0,\"ticks\":\"\"}}}],\"scatter3d\":[{\"type\":\"scatter3d\",\"line\":{\"colorbar\":{\"outlinewidth\":0,\"ticks\":\"\"}},\"marker\":{\"colorbar\":{\"outlinewidth\":0,\"ticks\":\"\"}}}],\"scattermapbox\":[{\"type\":\"scattermapbox\",\"marker\":{\"colorbar\":{\"outlinewidth\":0,\"ticks\":\"\"}}}],\"scatterternary\":[{\"type\":\"scatterternary\",\"marker\":{\"colorbar\":{\"outlinewidth\":0,\"ticks\":\"\"}}}],\"scattercarpet\":[{\"type\":\"scattercarpet\",\"marker\":{\"colorbar\":{\"outlinewidth\":0,\"ticks\":\"\"}}}],\"carpet\":[{\"aaxis\":{\"endlinecolor\":\"#2a3f5f\",\"gridcolor\":\"white\",\"linecolor\":\"white\",\"minorgridcolor\":\"white\",\"startlinecolor\":\"#2a3f5f\"},\"baxis\":{\"endlinecolor\":\"#2a3f5f\",\"gridcolor\":\"white\",\"linecolor\":\"white\",\"minorgridcolor\":\"white\",\"startlinecolor\":\"#2a3f5f\"},\"type\":\"carpet\"}],\"table\":[{\"cells\":{\"fill\":{\"color\":\"#EBF0F8\"},\"line\":{\"color\":\"white\"}},\"header\":{\"fill\":{\"color\":\"#C8D4E3\"},\"line\":{\"color\":\"white\"}},\"type\":\"table\"}],\"barpolar\":[{\"marker\":{\"line\":{\"color\":\"#E5ECF6\",\"width\":0.5},\"pattern\":{\"fillmode\":\"overlay\",\"size\":10,\"solidity\":0.2}},\"type\":\"barpolar\"}],\"pie\":[{\"automargin\":true,\"type\":\"pie\"}]},\"layout\":{\"autotypenumbers\":\"strict\",\"colorway\":[\"#636efa\",\"#EF553B\",\"#00cc96\",\"#ab63fa\",\"#FFA15A\",\"#19d3f3\",\"#FF6692\",\"#B6E880\",\"#FF97FF\",\"#FECB52\"],\"font\":{\"color\":\"#2a3f5f\"},\"hovermode\":\"closest\",\"hoverlabel\":{\"align\":\"left\"},\"paper_bgcolor\":\"white\",\"plot_bgcolor\":\"#E5ECF6\",\"polar\":{\"bgcolor\":\"#E5ECF6\",\"angularaxis\":{\"gridcolor\":\"white\",\"linecolor\":\"white\",\"ticks\":\"\"},\"radialaxis\":{\"gridcolor\":\"white\",\"linecolor\":\"white\",\"ticks\":\"\"}},\"ternary\":{\"bgcolor\":\"#E5ECF6\",\"aaxis\":{\"gridcolor\":\"white\",\"linecolor\":\"white\",\"ticks\":\"\"},\"baxis\":{\"gridcolor\":\"white\",\"linecolor\":\"white\",\"ticks\":\"\"},\"caxis\":{\"gridcolor\":\"white\",\"linecolor\":\"white\",\"ticks\":\"\"}},\"coloraxis\":{\"colorbar\":{\"outlinewidth\":0,\"ticks\":\"\"}},\"colorscale\":{\"sequential\":[[0.0,\"#0d0887\"],[0.1111111111111111,\"#46039f\"],[0.2222222222222222,\"#7201a8\"],[0.3333333333333333,\"#9c179e\"],[0.4444444444444444,\"#bd3786\"],[0.5555555555555556,\"#d8576b\"],[0.6666666666666666,\"#ed7953\"],[0.7777777777777778,\"#fb9f3a\"],[0.8888888888888888,\"#fdca26\"],[1.0,\"#f0f921\"]],\"sequentialminus\":[[0.0,\"#0d0887\"],[0.1111111111111111,\"#46039f\"],[0.2222222222222222,\"#7201a8\"],[0.3333333333333333,\"#9c179e\"],[0.4444444444444444,\"#bd3786\"],[0.5555555555555556,\"#d8576b\"],[0.6666666666666666,\"#ed7953\"],[0.7777777777777778,\"#fb9f3a\"],[0.8888888888888888,\"#fdca26\"],[1.0,\"#f0f921\"]],\"diverging\":[[0,\"#8e0152\"],[0.1,\"#c51b7d\"],[0.2,\"#de77ae\"],[0.3,\"#f1b6da\"],[0.4,\"#fde0ef\"],[0.5,\"#f7f7f7\"],[0.6,\"#e6f5d0\"],[0.7,\"#b8e186\"],[0.8,\"#7fbc41\"],[0.9,\"#4d9221\"],[1,\"#276419\"]]},\"xaxis\":{\"gridcolor\":\"white\",\"linecolor\":\"white\",\"ticks\":\"\",\"title\":{\"standoff\":15},\"zerolinecolor\":\"white\",\"automargin\":true,\"zerolinewidth\":2},\"yaxis\":{\"gridcolor\":\"white\",\"linecolor\":\"white\",\"ticks\":\"\",\"title\":{\"standoff\":15},\"zerolinecolor\":\"white\",\"automargin\":true,\"zerolinewidth\":2},\"scene\":{\"xaxis\":{\"backgroundcolor\":\"#E5ECF6\",\"gridcolor\":\"white\",\"linecolor\":\"white\",\"showbackground\":true,\"ticks\":\"\",\"zerolinecolor\":\"white\",\"gridwidth\":2},\"yaxis\":{\"backgroundcolor\":\"#E5ECF6\",\"gridcolor\":\"white\",\"linecolor\":\"white\",\"showbackground\":true,\"ticks\":\"\",\"zerolinecolor\":\"white\",\"gridwidth\":2},\"zaxis\":{\"backgroundcolor\":\"#E5ECF6\",\"gridcolor\":\"white\",\"linecolor\":\"white\",\"showbackground\":true,\"ticks\":\"\",\"zerolinecolor\":\"white\",\"gridwidth\":2}},\"shapedefaults\":{\"line\":{\"color\":\"#2a3f5f\"}},\"annotationdefaults\":{\"arrowcolor\":\"#2a3f5f\",\"arrowhead\":0,\"arrowwidth\":1},\"geo\":{\"bgcolor\":\"white\",\"landcolor\":\"#E5ECF6\",\"subunitcolor\":\"white\",\"showland\":true,\"showlakes\":true,\"lakecolor\":\"white\"},\"title\":{\"x\":0.05},\"mapbox\":{\"style\":\"light\"}}},\"xaxis\":{\"anchor\":\"y\",\"domain\":[0.0,1.0],\"title\":{\"text\":\"Model Year\"}},\"yaxis\":{\"anchor\":\"x\",\"domain\":[0.0,1.0],\"title\":{\"text\":\"Average Electric Range\"}},\"legend\":{\"title\":{\"text\":\"Electric Vehicle Type\"},\"tracegroupgap\":0},\"title\":{\"text\":\"Average Electric Range Over Model Years by Vehicle Type\"}},                        {\"responsive\": true}                    ).then(function(){\n",
       "                            \n",
       "var gd = document.getElementById('e3d522f7-2ad6-4db2-964b-060b0d426840');\n",
       "var x = new MutationObserver(function (mutations, observer) {{\n",
       "        var display = window.getComputedStyle(gd).display;\n",
       "        if (!display || display === 'none') {{\n",
       "            console.log([gd, 'removed!']);\n",
       "            Plotly.purge(gd);\n",
       "            observer.disconnect();\n",
       "        }}\n",
       "}});\n",
       "\n",
       "// Listen for the removal of the full notebook cells\n",
       "var notebookContainer = gd.closest('#notebook-container');\n",
       "if (notebookContainer) {{\n",
       "    x.observe(notebookContainer, {childList: true});\n",
       "}}\n",
       "\n",
       "// Listen for the clearing of the current output cell\n",
       "var outputEl = gd.closest('.output');\n",
       "if (outputEl) {{\n",
       "    x.observe(outputEl, {childList: true});\n",
       "}}\n",
       "\n",
       "                        })                };                });            </script>        </div>"
      ]
     },
     "metadata": {},
     "output_type": "display_data"
    }
   ],
   "source": [
    "import plotly.express as px\n",
    "\n",
    "df_avg_range = dfd.groupby(['Model Year', 'Electric Vehicle Type'])['Electric Range'].mean().reset_index()\n",
    "fig3 = px.line(\n",
    "    df_avg_range,\n",
    "    x=\"Model Year\",\n",
    "    y=\"Electric Range\",\n",
    "    color=\"Electric Vehicle Type\",\n",
    "    title=\"Average Electric Range Over Model Years by Vehicle Type\",\n",
    "    markers=True\n",
    ")\n",
    "fig3.update_layout(xaxis_title=\"Model Year\", yaxis_title=\"Average Electric Range\")\n",
    "fig3.show()"
   ]
  },
  {
   "cell_type": "code",
   "execution_count": 106,
   "id": "e977b023-e4f5-4640-b084-970d0a232b2d",
   "metadata": {},
   "outputs": [
    {
     "name": "stdout",
     "output_type": "stream",
     "text": [
      "Requirement already satisfied: dash in c:\\users\\pooja\\anaconda3\\lib\\site-packages (2.16.1)\n",
      "Requirement already satisfied: dash-bootstrap-components in c:\\users\\pooja\\anaconda3\\lib\\site-packages (1.5.0)\n",
      "Requirement already satisfied: Flask<3.1,>=1.0.4 in c:\\users\\pooja\\anaconda3\\lib\\site-packages (from dash) (2.2.2)\n",
      "Requirement already satisfied: Werkzeug<3.1 in c:\\users\\pooja\\anaconda3\\lib\\site-packages (from dash) (2.2.3)\n",
      "Requirement already satisfied: plotly>=5.0.0 in c:\\users\\pooja\\anaconda3\\lib\\site-packages (from dash) (5.9.0)\n",
      "Requirement already satisfied: dash-html-components==2.0.0 in c:\\users\\pooja\\anaconda3\\lib\\site-packages (from dash) (2.0.0)\n",
      "Requirement already satisfied: dash-core-components==2.0.0 in c:\\users\\pooja\\anaconda3\\lib\\site-packages (from dash) (2.0.0)\n",
      "Requirement already satisfied: dash-table==5.0.0 in c:\\users\\pooja\\anaconda3\\lib\\site-packages (from dash) (5.0.0)\n",
      "Requirement already satisfied: importlib-metadata in c:\\users\\pooja\\anaconda3\\lib\\site-packages (from dash) (6.0.0)\n",
      "Requirement already satisfied: typing-extensions>=4.1.1 in c:\\users\\pooja\\anaconda3\\lib\\site-packages (from dash) (4.7.1)\n",
      "Requirement already satisfied: requests in c:\\users\\pooja\\anaconda3\\lib\\site-packages (from dash) (2.31.0)\n",
      "Requirement already satisfied: retrying in c:\\users\\pooja\\anaconda3\\lib\\site-packages (from dash) (1.3.4)\n",
      "Requirement already satisfied: nest-asyncio in c:\\users\\pooja\\anaconda3\\lib\\site-packages (from dash) (1.5.6)\n",
      "Requirement already satisfied: setuptools in c:\\users\\pooja\\anaconda3\\lib\\site-packages (from dash) (68.0.0)\n",
      "Requirement already satisfied: Jinja2>=3.0 in c:\\users\\pooja\\anaconda3\\lib\\site-packages (from Flask<3.1,>=1.0.4->dash) (3.1.2)\n",
      "Requirement already satisfied: itsdangerous>=2.0 in c:\\users\\pooja\\anaconda3\\lib\\site-packages (from Flask<3.1,>=1.0.4->dash) (2.0.1)\n",
      "Requirement already satisfied: click>=8.0 in c:\\users\\pooja\\anaconda3\\lib\\site-packages (from Flask<3.1,>=1.0.4->dash) (8.0.4)\n",
      "Requirement already satisfied: tenacity>=6.2.0 in c:\\users\\pooja\\anaconda3\\lib\\site-packages (from plotly>=5.0.0->dash) (8.2.2)\n",
      "Requirement already satisfied: MarkupSafe>=2.1.1 in c:\\users\\pooja\\anaconda3\\lib\\site-packages (from Werkzeug<3.1->dash) (2.1.1)\n",
      "Requirement already satisfied: zipp>=0.5 in c:\\users\\pooja\\anaconda3\\lib\\site-packages (from importlib-metadata->dash) (3.11.0)\n",
      "Requirement already satisfied: charset-normalizer<4,>=2 in c:\\users\\pooja\\anaconda3\\lib\\site-packages (from requests->dash) (2.0.4)\n",
      "Requirement already satisfied: idna<4,>=2.5 in c:\\users\\pooja\\anaconda3\\lib\\site-packages (from requests->dash) (3.4)\n",
      "Requirement already satisfied: urllib3<3,>=1.21.1 in c:\\users\\pooja\\anaconda3\\lib\\site-packages (from requests->dash) (1.26.16)\n",
      "Requirement already satisfied: certifi>=2017.4.17 in c:\\users\\pooja\\anaconda3\\lib\\site-packages (from requests->dash) (2024.7.4)\n",
      "Requirement already satisfied: six>=1.7.0 in c:\\users\\pooja\\anaconda3\\lib\\site-packages (from retrying->dash) (1.16.0)\n",
      "Requirement already satisfied: colorama in c:\\users\\pooja\\anaconda3\\lib\\site-packages (from click>=8.0->Flask<3.1,>=1.0.4->dash) (0.4.6)\n",
      "Note: you may need to restart the kernel to use updated packages.\n"
     ]
    }
   ],
   "source": [
    "pip install dash dash-bootstrap-components\n"
   ]
  },
  {
   "cell_type": "code",
   "execution_count": 112,
   "id": "dbef9ad9-fbb3-42fd-a298-7257eb5187cf",
   "metadata": {},
   "outputs": [
    {
     "data": {
      "text/html": [
       "\n",
       "        <iframe\n",
       "            width=\"100%\"\n",
       "            height=\"650\"\n",
       "            src=\"http://127.0.0.1:8050/\"\n",
       "            frameborder=\"0\"\n",
       "            allowfullscreen\n",
       "            \n",
       "        ></iframe>\n",
       "        "
      ],
      "text/plain": [
       "<IPython.lib.display.IFrame at 0x22b499f0550>"
      ]
     },
     "metadata": {},
     "output_type": "display_data"
    }
   ],
   "source": [
    "import dash\n",
    "from dash import dcc, html, Input, Output\n",
    "import dash_bootstrap_components as dbc\n",
    "import plotly.express as px\n",
    "import pandas as pd\n",
    "\n",
    "# Load and clean your dataset\n",
    "df = pd.read_csv('Electric_Vehicle_Population_Data.csv')\n",
    "df.fillna('unknown', inplace=True)\n",
    "df.drop_duplicates(subset='VIN (1-10)', inplace=True)\n",
    "df.replace('unknown', pd.NA, inplace=True)\n",
    "df.dropna(subset=['Postal Code', 'Legislative District', '2020 Census Tract'], inplace=True)\n",
    "\n",
    "# Create the Dash app\n",
    "app = dash.Dash(__name__, external_stylesheets=[dbc.themes.BOOTSTRAP])\n",
    "\n",
    "# App layout\n",
    "app.layout = dbc.Container([\n",
    "    html.H1(\"Electric Vehicle Interactive Dashboard\"),\n",
    "    html.P(\"Explore Electric Vehicle data interactively using dropdowns and sliders.\"),\n",
    "    \n",
    "    # Dropdown to filter by Electric Vehicle Type\n",
    "    dbc.Row([\n",
    "        dbc.Col(html.Label(\"Select Vehicle Type:\"), width=2),\n",
    "        dbc.Col(\n",
    "            dcc.Dropdown(\n",
    "                id='vehicle-type-dropdown',\n",
    "                options=[{'label': vtype, 'value': vtype} for vtype in df['Electric Vehicle Type'].unique()],\n",
    "                value=None,\n",
    "                multi=True,\n",
    "                placeholder=\"Select Vehicle Types\"\n",
    "            ), width=10\n",
    "        ),\n",
    "    ], className=\"mb-4\"),\n",
    "    \n",
    "    # Slider for Model Year\n",
    "    dbc.Row([\n",
    "        dbc.Col(html.Label(\"Select Model Year Range:\"), width=2),\n",
    "        dbc.Col(\n",
    "            dcc.RangeSlider(\n",
    "                id='year-slider',\n",
    "                min=df['Model Year'].min(),\n",
    "                max=df['Model Year'].max(),\n",
    "                value=[df['Model Year'].min(), df['Model Year'].max()],\n",
    "                marks={year: str(year) for year in sorted(df['Model Year'].unique())},\n",
    "                step=1\n",
    "            ), width=10\n",
    "        )\n",
    "    ], className=\"mb-4\"),\n",
    "    \n",
    "    # Scatter plot of Electric Range vs Base MSRP\n",
    "    dbc.Row([\n",
    "        dbc.Col(dcc.Graph(id='scatter-plot'), width=12)\n",
    "    ]),\n",
    "    \n",
    "    # Box plot of Base MSRP by Electric Vehicle Type\n",
    "    dbc.Row([\n",
    "        dbc.Col(dcc.Graph(id='box-plot'), width=12)\n",
    "    ]),\n",
    "    \n",
    "    # Line plot of Average Electric Range over Model Years by Vehicle Type\n",
    "    dbc.Row([\n",
    "        dbc.Col(dcc.Graph(id='line-plot'), width=12)\n",
    "    ])\n",
    "])\n",
    "\n",
    "# Callback to update charts based on user input\n",
    "@app.callback(\n",
    "    [Output('scatter-plot', 'figure'),\n",
    "     Output('box-plot', 'figure'),\n",
    "     Output('line-plot', 'figure')],\n",
    "    [Input('vehicle-type-dropdown', 'value'),\n",
    "     Input('year-slider', 'value')]\n",
    ")\n",
    "def update_charts(selected_vehicle_types, selected_year_range):\n",
    "    # Filter data based on dropdown and slider\n",
    "    filtered_df = df[\n",
    "        (df['Model Year'] >= selected_year_range[0]) &\n",
    "        (df['Model Year'] <= selected_year_range[1])\n",
    "    ]\n",
    "    \n",
    "    if selected_vehicle_types:\n",
    "        filtered_df = filtered_df[filtered_df['Electric Vehicle Type'].isin(selected_vehicle_types)]\n",
    "    \n",
    "    # Scatter plot\n",
    "    scatter_fig = px.scatter(\n",
    "        filtered_df,\n",
    "        x=\"Electric Range\",\n",
    "        y=\"Base MSRP\",\n",
    "        color=\"Electric Vehicle Type\",\n",
    "        title=\"Electric Range vs. Base MSRP\",\n",
    "        hover_data=[\"Make\", \"Model\", \"Model Year\"]\n",
    "    )\n",
    "    \n",
    "    # Box plot\n",
    "    box_fig = px.box(\n",
    "        filtered_df,\n",
    "        x=\"Electric Vehicle Type\",\n",
    "        y=\"Base MSRP\",\n",
    "        title=\"Base MSRP Distribution by Electric Vehicle Type\"\n",
    "    )\n",
    "    \n",
    "    # Line plot\n",
    "    avg_range_df = filtered_df.groupby(['Model Year', 'Electric Vehicle Type'])['Electric Range'].mean().reset_index()\n",
    "    line_fig = px.line(\n",
    "        avg_range_df,\n",
    "        x=\"Model Year\",\n",
    "        y=\"Electric Range\",\n",
    "        color=\"Electric Vehicle Type\",\n",
    "        title=\"Average Electric Range Over Model Year\"\n",
    "    )\n",
    "    \n",
    "    return scatter_fig, box_fig, line_fig\n",
    "\n",
    "# Run the app\n",
    "if __name__ == '__main__':\n",
    "    app.run_server(debug=True)\n"
   ]
  },
  {
   "cell_type": "code",
   "execution_count": null,
   "id": "4ec6b7ac-de79-40d7-a13f-652ca03dc671",
   "metadata": {},
   "outputs": [],
   "source": []
  }
 ],
 "metadata": {
  "kernelspec": {
   "display_name": "Python 3 (ipykernel)",
   "language": "python",
   "name": "python3"
  },
  "language_info": {
   "codemirror_mode": {
    "name": "ipython",
    "version": 3
   },
   "file_extension": ".py",
   "mimetype": "text/x-python",
   "name": "python",
   "nbconvert_exporter": "python",
   "pygments_lexer": "ipython3",
   "version": "3.11.5"
  }
 },
 "nbformat": 4,
 "nbformat_minor": 5
}
